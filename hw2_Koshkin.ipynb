{
  "nbformat": 4,
  "nbformat_minor": 0,
  "metadata": {
    "kernelspec": {
      "display_name": "Python 3 (ipykernel)",
      "language": "python",
      "name": "python3"
    },
    "language_info": {
      "codemirror_mode": {
        "name": "ipython",
        "version": 3
      },
      "file_extension": ".py",
      "mimetype": "text/x-python",
      "name": "python",
      "nbconvert_exporter": "python",
      "pygments_lexer": "ipython3",
      "version": "3.8.6"
    },
    "colab": {
      "name": "hw2_Koshkin.ipynb",
      "provenance": [],
      "collapsed_sections": []
    }
  },
  "cells": [
    {
      "cell_type": "markdown",
      "metadata": {
        "id": "OQ7XWRz0kW91"
      },
      "source": [
        ""
      ]
    },
    {
      "cell_type": "markdown",
      "metadata": {
        "id": "A3posBit_v77"
      },
      "source": [
        "# Домашнее задание №2 ( балла)\n",
        "\n",
        "## дедлайн 7 октября 18:10\n",
        "### 10 или 9 можно получить, если сдать домашнее задание полностью до 3 октября 23:59, а также верно выполнить задания со звездочками\n",
        "\n",
        "\n",
        "Цель:\n",
        "\n",
        "Отработать навыки работы с основными типами данных в Python.\n",
        "Отработать навыки работы с основными структурами данных в Python."
      ]
    },
    {
      "cell_type": "markdown",
      "metadata": {
        "id": "V3_p-c6m_v78"
      },
      "source": [
        "**NB!** Задания необходимо выполнять таким образом, что переменную/-ые можно было заменить на схожее слово/число/текст/список/и т.д., при этом задание все равно выполнялось бы верно."
      ]
    },
    {
      "cell_type": "markdown",
      "metadata": {
        "id": "5IHy3DUz_v8G"
      },
      "source": [
        "### Часть 1. Списки (16 баллов)"
      ]
    },
    {
      "cell_type": "markdown",
      "metadata": {
        "id": "LF37caBG_v8G"
      },
      "source": [
        "1. (2 балла) Пользователь вводит несколько чисел через запятую. Сделайте из этих чисел список, подсчитайте сумму элементов, среднее, максимальное и минимальное значение. Все результаты подсчетов выведите на экран"
      ]
    },
    {
      "cell_type": "code",
      "metadata": {
        "id": "6X3KeVLXgoX5"
      },
      "source": [
        "x = input(\"Введите несколько чисел через запятую - \")\n",
        "\n",
        "list_x = [float(i) for i in x.split(\", \")]\n",
        "\n",
        "print(\"Сумма элементов -\", sum(list_x))\n",
        "print(\"Среднее значение -\", sum(list_x) / len(list_x))\n",
        "print(\"Максимальное значение -\", max(list_x))\n",
        "print(\"Минимальное значение -\", min(list_x))"
      ],
      "execution_count": null,
      "outputs": []
    },
    {
      "cell_type": "markdown",
      "metadata": {
        "id": "KLUTNmQk_v8G"
      },
      "source": [
        "2. (2 балла) Даны два списка. \"Слить\" их через один (чередуя элементы то одного, то другого списка).\n",
        "\n",
        "`f = [1,2,3]`\n",
        "\n",
        "`s = ['1','2','3']`\n",
        "\n",
        "Ожидаемый результат:\n",
        "\n",
        "`[1, '1', 2, '2', 3, '3']`\n"
      ]
    },
    {
      "cell_type": "markdown",
      "metadata": {
        "id": "1be1P1k5_v8H"
      },
      "source": [
        "* _Списки могут быть любого размера (но одинакового), а ваш код все равно должен работать._\n",
        "* _можно заработать + 2 балла к заданию, если сделать его в одну строку_"
      ]
    },
    {
      "cell_type": "code",
      "metadata": {
        "id": "y1VqZ_7P_v8H"
      },
      "source": [
        "f = [1,2,3,4,5]\n",
        "s = ['1','2','3','4','5']\n",
        "\n",
        "fs = [sub[i] for i in range(len(f)) for sub in [f, s]]\n",
        "print(fs)"
      ],
      "execution_count": null,
      "outputs": []
    },
    {
      "cell_type": "markdown",
      "metadata": {
        "id": "wAsDtE_0_v8H"
      },
      "source": [
        "3. (4 балла) Создайте следующий лист: \n",
        "\n",
        "`months = [\n",
        "'Декабрь', 'Январь', 'Февраль',\n",
        "'Март', 'Апрель', 'Май',\n",
        "'Июнь', 'Июль', 'Август',\n",
        "'Сентябрь', 'Октябрь', 'Ноябрь'\n",
        "]`. \n",
        "\n",
        "Ваша задача получить из него:\n",
        "    - все зимние месяцы\n",
        "    - все летние месяцы\n",
        "    - каждый второй месяц года начиная с Января\n",
        "    - первые месяцы каждого сезона (4),\n",
        "\n",
        "используя `slice`."
      ]
    },
    {
      "cell_type": "code",
      "metadata": {
        "id": "ol-aAzBb_v8H"
      },
      "source": [
        "months = [ 'Декабрь', 'Январь', 'Февраль', 'Март', 'Апрель', 'Май', 'Июнь', 'Июль', 'Август', 'Сентябрь', 'Октябрь', 'Ноябрь' ]\n",
        "\n",
        "print(\"Зима\", months[0:3])\n",
        "print(\"Лето\", months[6:9])\n",
        "print(\"Каждый второй месяц года начиная с Января\", months[1:12:2])\n",
        "print(\"Первые месяцы каждого сезона\", months[0:12:3])"
      ],
      "execution_count": null,
      "outputs": []
    },
    {
      "cell_type": "markdown",
      "metadata": {
        "id": "dyFDN1th_v8H"
      },
      "source": [
        "4. (3 балла) Создайте list \n",
        "\n",
        "`weekdays = ['Понедельник', 2, 'Cреда', 'Четверг', 5]`\n",
        "\n",
        "- Исправьте числа 2 и 5 на Вторник и Пятницу соответственно\n",
        "- Добавьте недостающие дни в конец списка\n",
        "- Посчитайте длину итогового листа"
      ]
    },
    {
      "cell_type": "code",
      "metadata": {
        "id": "mpUCmwn4_v8H"
      },
      "source": [
        "weekdays = ['Понедельник', 2, 'Cреда', 'Четверг', 5]\n",
        "\n",
        "weekdays[1] = 'Вторник'\n",
        "weekdays[4] = 'Пятница'\n",
        "weekdays.append('Суббота')\n",
        "weekdays.append('Воскресенье')\n",
        "\n",
        "print(\"Длина списка weekdays -\", len(weekdays))"
      ],
      "execution_count": null,
      "outputs": []
    },
    {
      "cell_type": "markdown",
      "metadata": {
        "id": "sX7Pyq8d_v8H"
      },
      "source": [
        "5. (3 балла) Создайте строку (str) `'йтцыу фочтмлзирчйнбою асапырйафвялгяшещшоьрскяу!й'`\n",
        "\n",
        "    - Превратите ее в лист символов\n",
        "    - Расшифруйте закодированное в ней сообщение, выбрав из всех символов только символы с **нечетным** индексом\n",
        "    - Превратите полученный лист обратно в строку и напечатайте результат\n",
        "\n",
        "**Hint** вам понадобится функция `.join()`"
      ]
    },
    {
      "cell_type": "code",
      "metadata": {
        "id": "fJozshnzC69S"
      },
      "source": [
        "s = 'йтцыу фочтмлзирчйнбою асапырйафвялгяшещшоьрскяу!й'\n",
        "\n",
        "s_l = list(s)\n",
        "\n",
        "x = len(s_l)\n",
        "\n",
        "s_l_decrypted = s_l[1:x:2]\n",
        "\n",
        "s_decrypted = \"\".join(s_l_decrypted)\n",
        "\n",
        "print(s_decrypted)"
      ],
      "execution_count": null,
      "outputs": []
    },
    {
      "cell_type": "markdown",
      "metadata": {
        "id": "hI1vaX97DLgo"
      },
      "source": [
        "6. (2 балла) Дан список (придумайте любой и положите в переменную `my_list`, `input()` использовать не нужно). Проверить, содержит ли данный список повторяющиеся элементы, удалить повторяющиеся элементы (без использования `dict` и `set`)"
      ]
    },
    {
      "cell_type": "code",
      "metadata": {
        "id": "c4_1mkhp_v8H"
      },
      "source": [
        "my_list = [\"Кек\", 324, \"Кек\", 13636, 324, 32444, \"Лол\", \"Мем\"]\n",
        "\n",
        "new_list = []\n",
        "for i in my_list:\n",
        "  if i not in new_list:\n",
        "    new_list.append(i)\n",
        "\n",
        "if my_list == new_list:\n",
        "  print(\"Список не содержит повторений -\", my_list)\n",
        "else:\n",
        "  my_list = new_list\n",
        "  print(\"Список содержал повторения, но они удалены. Список -\", my_list)"
      ],
      "execution_count": null,
      "outputs": []
    },
    {
      "cell_type": "markdown",
      "metadata": {
        "id": "nSJWKkvq_v8I"
      },
      "source": [
        "### Часть 2. Кортежи (3 балла)"
      ]
    },
    {
      "cell_type": "markdown",
      "metadata": {
        "id": "hFX4GTq1_v8I"
      },
      "source": [
        "29. (1 балл) Создать кортеж из одного элемента."
      ]
    },
    {
      "cell_type": "code",
      "metadata": {
        "id": "_qcdWtzz_v8I"
      },
      "source": [
        "a = (1,)\n",
        "print(type(a))"
      ],
      "execution_count": null,
      "outputs": []
    },
    {
      "cell_type": "markdown",
      "metadata": {
        "id": "WFrsJtZr_v8I"
      },
      "source": [
        "30. (1 балл) Создайте кортеж из списка, напечатайте его.\n",
        "\n",
        "`months = [\n",
        "'Январь', 'Февраль',\n",
        "'Март', 'Апрель', 'Май',\n",
        "'Июнь', 'Июль', 'Август',\n",
        "'Сентябрь', 'Октябрь', 'Ноябрь'\n",
        "]`"
      ]
    },
    {
      "cell_type": "code",
      "metadata": {
        "id": "1zL4nMN4_v8I"
      },
      "source": [
        "months = [ 'Январь', 'Февраль', 'Март', 'Апрель', 'Май', 'Июнь', 'Июль', 'Август', 'Сентябрь', 'Октябрь', 'Ноябрь']\n",
        "\n",
        "months_t = tuple(months)\n",
        "\n",
        "print(months_t)"
      ],
      "execution_count": null,
      "outputs": []
    },
    {
      "cell_type": "markdown",
      "metadata": {
        "id": "iGn7e0Ow_v8I"
      },
      "source": [
        "31. (1 балл) Добавьте недостающий месяц (на выходе ожидается кортеж)"
      ]
    },
    {
      "cell_type": "code",
      "metadata": {
        "id": "ZdD0BuYU_v8I"
      },
      "source": [
        "months_l = list(months_t)\n",
        "\n",
        "months_l.append('Декабрь')\n",
        "\n",
        "months_t = tuple(months_l)\n",
        "\n",
        "print(months_t)"
      ],
      "execution_count": null,
      "outputs": []
    },
    {
      "cell_type": "markdown",
      "metadata": {
        "id": "netCKvWK_v8I"
      },
      "source": [
        "### Часть 3. Сеты (4 балла)"
      ]
    },
    {
      "cell_type": "markdown",
      "metadata": {
        "id": "vmpZWO8Z_v8I"
      },
      "source": [
        "32. (1 балл) Посчитать, сколько различных букв в слове 'превысокомногорассмотрительствующий'"
      ]
    },
    {
      "cell_type": "code",
      "metadata": {
        "id": "IUBHgO78_v8J"
      },
      "source": [
        "str_1 = 'превысокомногорассмотрительствующий'\n",
        "set_1 = set(str_1)\n",
        "print(\"В слове\", str_1, len(set_1), \"различных букв\")"
      ],
      "execution_count": null,
      "outputs": []
    },
    {
      "cell_type": "markdown",
      "metadata": {
        "id": "EtPaMLQO_v8J"
      },
      "source": [
        "33. (1 балл) Какие различные буквы имеют слова \"превысокомногорассмотрительствующий\" и \"водогрязеторфопарафинолечение\"?"
      ]
    },
    {
      "cell_type": "code",
      "metadata": {
        "id": "dwIdysLu_v8J"
      },
      "source": [
        "str_1 = 'превысокомногорассмотрительствующий'\n",
        "str_2 = 'водогрязеторфопарафинолечение'\n",
        "str_3 = str_1 + str_2\n",
        "\n",
        "set_3 = set(str_3)\n",
        "\n",
        "print(\"Cлова\", str_1, \"и\", str_2, \"имеют следующие различные буквы -\", set_3)"
      ],
      "execution_count": null,
      "outputs": []
    },
    {
      "cell_type": "markdown",
      "metadata": {
        "id": "UQxsVL3w_v8J"
      },
      "source": [
        "34. (1 балл) Какие общие буквы имеют слова \"превысокомногорассмотрительствующий\" и \"водогрязеторфопарафинолечение\"?"
      ]
    },
    {
      "cell_type": "code",
      "metadata": {
        "id": "unSFfV_a_v8J"
      },
      "source": [
        "str_1 = 'превысокомногорассмотрительствующий'\n",
        "str_2 = 'водогрязеторфопарафинолечение'\n",
        "\n",
        "new_list = []\n",
        "for i in str_1:\n",
        "  if i in str_2:\n",
        "    new_list.append(i)\n",
        "\n",
        "set_3 = set(new_list)\n",
        "\n",
        "print(\"Cлова\", str_1, \"и\", str_2, \"имеют следующие общие буквы -\", set_3)"
      ],
      "execution_count": null,
      "outputs": []
    },
    {
      "cell_type": "markdown",
      "metadata": {
        "id": "GauGi3oF_v8J"
      },
      "source": [
        "35. (1 балл) Есть ли буквы в слове \"превысокомногорассмотрительствующий\", которых нет в слове \"водогрязеторфопарафинолечение\"? А наоборот?"
      ]
    },
    {
      "cell_type": "code",
      "metadata": {
        "id": "TfTtSHFY_v8J"
      },
      "source": [
        "str_1 = 'превысокомногорассмотрительствующий'\n",
        "str_2 = 'водогрязеторфопарафинолечение'\n",
        "\n",
        "new_list_1 = []\n",
        "for i in str_1:\n",
        "  if i not in str_2:\n",
        "    new_list_1.append(i)\n",
        "\n",
        "new_list_2 = []\n",
        "for i in str_2:\n",
        "  if i not in str_1:\n",
        "    new_list_2.append(i)\n",
        "\n",
        "set_3_1 = set(new_list_1)\n",
        "set_3_2 = set(new_list_2)\n",
        "\n",
        "print(\"В слове\", str_1, \"есть буквы - \", set_3_1, \", которых нет в слове\", str_2)\n",
        "print(\"В слове\", str_2, \"есть буквы - \", set_3_2, \", которых нет в слове\", str_1)"
      ],
      "execution_count": null,
      "outputs": []
    },
    {
      "cell_type": "markdown",
      "metadata": {
        "id": "E2sczfkn_v8J"
      },
      "source": [
        "### Часть 6. Словари и полезные вещи (10 баллов)"
      ]
    },
    {
      "cell_type": "markdown",
      "metadata": {
        "id": "VxZ4E8JhEHxD"
      },
      "source": [
        "Дан текст. Текст приведен к начальной форме уже за вас (мы это научимся делать на следующем занятии).\n",
        "```\n",
        "1. DJ Khaled замутить трек, в который читать только Drake. \n",
        "2. Drake организовывать на этот песня очень крутой клип, в который вместо он сниматься только джастин бибер.\n",
        "\n",
        "видимо, награда за весь это быть получать леонардо дикаприо 😅\n",
        "\n",
        "в клип джастин, кстати, выглядеть очень бодрый и наконец выздоравливать от болезнь и депрессия.\n",
        "отдельный прикол в то, что он там «читать» строчка про свой бывший девушка селен гомес, про себя сам и про то, насколько дрейк - крутой они все и взрывать индустрия 😂🤟\n",
        "```"
      ]
    },
    {
      "cell_type": "markdown",
      "metadata": {
        "id": "hGBIV3hS_v8K"
      },
      "source": [
        "36. (1 балл) Запишите его в переменную. Обратите внимание, что текст многострочный -- переносы строки нужно сохранить!"
      ]
    },
    {
      "cell_type": "code",
      "metadata": {
        "id": "BLB2YgyY_v8K"
      },
      "source": [
        "text = '''1. DJ Khaled замутить трек, в который читать только Drake. \n",
        "2. Drake организовывать на этот песня очень крутой клип, в который вместо он сниматься только джастин бибер.\n",
        "\n",
        "видимо, награда за весь это быть получать леонардо дикаприо 😅\n",
        "\n",
        "в клип джастин, кстати, выглядеть очень бодрый и наконец выздоравливать от болезнь и депрессия.\n",
        "отдельный прикол в то, что он там «читать» строчка про свой бывший девушка селен гомес, про себя сам и про то, насколько дрейк - крутой они все и взрывать индустрия 😂🤟'''"
      ],
      "execution_count": 18,
      "outputs": []
    },
    {
      "cell_type": "markdown",
      "metadata": {
        "id": "Z2529Ids_v8K"
      },
      "source": [
        "37. (1 балл) Разделите текст на предложения (используя `\"\\n\"`) "
      ]
    },
    {
      "cell_type": "code",
      "metadata": {
        "id": "DWR1Ckig_v8K"
      },
      "source": [
        "text2 = text.split('\\n')\n",
        "text2 = [x for x in text2 if x]"
      ],
      "execution_count": 20,
      "outputs": []
    },
    {
      "cell_type": "markdown",
      "metadata": {
        "id": "pa1_7zAS_v8K"
      },
      "source": [
        "38. (2 балла) Разделите предложения на слова, удалите пунктуацию до и после слов, используя `.strip()`. И кавычки тоже удалите."
      ]
    },
    {
      "cell_type": "code",
      "metadata": {
        "id": "Fj0ZPwO1_v8K"
      },
      "source": [
        "punct = ',.«»'\n",
        "text13 = []\n",
        "\n",
        "for i in text2:\n",
        "  text13.append([a.strip(punct) for a in i.split()])"
      ],
      "execution_count": 22,
      "outputs": []
    },
    {
      "cell_type": "markdown",
      "metadata": {
        "id": "H6JJW1GH_v8K"
      },
      "source": [
        "39. (2 балла) Создайте словарь, в котором ключ -- слово из текста, а значение -- количество раз, сколько оно встречается во всем тексте.\n",
        "\n",
        "например:\n",
        "\n",
        "`dct = {\"go\": 1, \"went\": 2, \"gone\": 3}`\n",
        "\n",
        "Напечатайте словарь"
      ]
    },
    {
      "cell_type": "code",
      "metadata": {
        "id": "cy5_T8yM_v8L"
      },
      "source": [
        "text2 = text.replace('. ', '.\\n')\n",
        "text3 = text2.replace('.\\n', ' ')\n",
        "text4 = text3.replace('\\n', ' ')\n",
        "text5 = text4.replace(',', '')\n",
        "text6 = text5.replace('- ', '')\n",
        "text11 = text6.replace('«', '')\n",
        "text12 = text11.replace('»', '')\n",
        "text13 = text12.split()\n",
        "\n",
        "from collections import Counter\n",
        "\n",
        "text14 = Counter(text13)\n",
        "print(text14)"
      ],
      "execution_count": null,
      "outputs": []
    },
    {
      "cell_type": "markdown",
      "metadata": {
        "id": "lCKeMfMY_v8L"
      },
      "source": [
        "40. (2 балла) Напечатайте слова, встречающиеся более 1 раза в формате `\"слово кол-во раз\"` через пробел.\n",
        "\n",
        "    * Если сможете напечатать в порядке убывания (от большего к меньшему) + 2 балла"
      ]
    },
    {
      "cell_type": "code",
      "metadata": {
        "id": "J_-Cy9dMeb8f"
      },
      "source": [
        "text15 = {}\n",
        "for i in text14:\n",
        "  if text14[i] > 1:\n",
        "   text15[i] = text14[i]\n",
        "\n",
        "text16 = Counter(text15).most_common()\n",
        "text17 = str(text16)\n",
        "text18 = text17.replace('[(', '')\n",
        "text19 = text18.replace('), (', '\\n')\n",
        "text20 = text19.replace(', ', ' ')\n",
        "text21 = text20.replace(')]', '')\n",
        "\n",
        "print(text21)"
      ],
      "execution_count": null,
      "outputs": []
    },
    {
      "cell_type": "markdown",
      "metadata": {
        "id": "6mEkbtQk_v8M"
      },
      "source": [
        "41. (2 балла) Пользователь вводит с клавиатуры какое-нибудь слово.\n",
        "Проверяем, есть ли слово в массиве: если нет, добавляем его туда и печатаем \"Слово X добавлено\", а если есть, то печатаем ответ \"Слово X в тексте N раз\"."
      ]
    },
    {
      "cell_type": "code",
      "metadata": {
        "id": "JvQMP8wR_v8M"
      },
      "source": [
        "word = input(\"Введите слово - \")\n",
        "\n",
        "text22 = text14\n",
        "if text22[word] >= 1:\n",
        "  print(\"Слово\", word, \"в тексте\", text22[word], \"раз\")\n",
        "\n",
        "else:\n",
        "  text22[word] = 1\n",
        "  print(\"Слово\", word, \"добавлено\")"
      ],
      "execution_count": null,
      "outputs": []
    },
    {
      "cell_type": "markdown",
      "metadata": {
        "id": "YTZ_hhhBFasx"
      },
      "source": [
        "## Задания со звездочкой (9 или 10 можно получить, решив эти задания)"
      ]
    },
    {
      "cell_type": "markdown",
      "metadata": {
        "id": "159FPHDYFpk1"
      },
      "source": [
        "42. По заданному n вывести левосторонний треугольник из следующих цифр:\n"
      ]
    },
    {
      "cell_type": "code",
      "metadata": {
        "id": "KqJoZEUIFaEd"
      },
      "source": [
        "n = 10\n",
        "a = []\n",
        "for i in range(n):\n",
        "  print(*a, i)\n",
        "  a.append(i)"
      ],
      "execution_count": null,
      "outputs": []
    },
    {
      "cell_type": "markdown",
      "metadata": {
        "id": "-9rUNF4-Fofe"
      },
      "source": [
        "43. По заданному n вывести перевернутый правосторонний треугольник из следующих цифр"
      ]
    },
    {
      "cell_type": "code",
      "metadata": {
        "id": "Sa7ZDOa-Fm7O"
      },
      "source": [
        "n = 10\n",
        "\n",
        "a = []\n",
        "for i in range(n):\n",
        "  a.append(i)\n",
        "  \n",
        "print(*a)\n",
        "while a[-1] != 0:\n",
        " del a[-1]\n",
        " a = [\" \"] + a\n",
        " print(*a)\n",
        "  "
      ],
      "execution_count": null,
      "outputs": []
    },
    {
      "cell_type": "markdown",
      "metadata": {
        "id": "y1BSSdWe_v8N"
      },
      "source": [
        "#### Напишите ниже вашу обратную связь по домашнему заданию в комментарии. \n",
        "\n",
        "#### Какие задания показались вам самыми сложными / простыми? Что понравилось, а что нет?"
      ]
    },
    {
      "cell_type": "code",
      "metadata": {
        "id": "xciAjxQG_v8N"
      },
      "source": [
        ""
      ],
      "execution_count": null,
      "outputs": []
    }
  ]
}