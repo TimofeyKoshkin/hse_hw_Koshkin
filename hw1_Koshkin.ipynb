{
  "nbformat": 4,
  "nbformat_minor": 0,
  "metadata": {
    "colab": {
      "name": "hw1_Koshkin.ipynb",
      "provenance": [],
      "collapsed_sections": []
    },
    "kernelspec": {
      "display_name": "Python 3 (ipykernel)",
      "language": "python",
      "name": "python3"
    },
    "language_info": {
      "codemirror_mode": {
        "name": "ipython",
        "version": 3
      },
      "file_extension": ".py",
      "mimetype": "text/x-python",
      "name": "python",
      "nbconvert_exporter": "python",
      "pygments_lexer": "ipython3",
      "version": "3.8.6"
    }
  },
  "cells": [
    {
      "cell_type": "markdown",
      "metadata": {
        "id": "1BZBCk5mmB-0"
      },
      "source": [
        "# Домашнее задание №1 (25 баллов)\n",
        "\n",
        "## дедлайн 19 сентября 23:59\n",
        "\n",
        "\n",
        "\n",
        "Цель:\n",
        "\n",
        "Отработать навыки работы с основными типами данных в Python."
      ]
    },
    {
      "cell_type": "markdown",
      "metadata": {
        "id": "LZn14yIamB-4"
      },
      "source": [
        "**NB!** Задания необходимо выполнять таким образом, что переменную/-ые можно было заменить на схожее слово/число/текст/список/и т.д., при этом задание все равно выполнялось бы верно."
      ]
    },
    {
      "cell_type": "markdown",
      "metadata": {
        "id": "rXWlFw-wmB-5"
      },
      "source": [
        "_Оценку 9 или 10 можно получить, если выполнить домашнее задание до 16 сентября 18:10 (бонусное задание в т.ч.)_"
      ]
    },
    {
      "cell_type": "markdown",
      "metadata": {
        "id": "Zz7zK33DmB-6"
      },
      "source": [
        "### Часть 1. Переменные, арифметические операции (7 баллов)"
      ]
    },
    {
      "cell_type": "markdown",
      "metadata": {
        "id": "-p1ThRvGmB-7"
      },
      "source": [
        "1. (1 балл) Создайте две переменные $a$ и $b$ и присвойте им значение $91$ и $-12$, соответственно.\n",
        "Какой тип имеют эти переменные?"
      ]
    },
    {
      "cell_type": "code",
      "metadata": {
        "colab": {
          "base_uri": "https://localhost:8080/"
        },
        "id": "pEXH413VmB-7",
        "outputId": "b1b1ea43-0ec4-468b-971d-c36e30105e54"
      },
      "source": [
        "a = 91\n",
        "b = 12\n",
        "print(type(a))\n",
        "print(type(b))"
      ],
      "execution_count": null,
      "outputs": [
        {
          "output_type": "stream",
          "name": "stdout",
          "text": [
            "<class 'int'>\n",
            "<class 'int'>\n"
          ]
        }
      ]
    },
    {
      "cell_type": "markdown",
      "metadata": {
        "id": "7uvknJ4xmB-9"
      },
      "source": [
        "2. (1 балл) Посчитайте:\n",
        "\n",
        "    * разность a - b\n",
        "\n",
        "    * сумму a + b"
      ]
    },
    {
      "cell_type": "code",
      "metadata": {
        "colab": {
          "base_uri": "https://localhost:8080/"
        },
        "id": "opg4FgsCmB--",
        "outputId": "148abcb6-8302-43e0-a183-dc7e552d8dfe"
      },
      "source": [
        "print(a - b)\n",
        "print(a + b)"
      ],
      "execution_count": null,
      "outputs": [
        {
          "name": "stdout",
          "output_type": "stream",
          "text": [
            "79\n",
            "103\n"
          ]
        }
      ]
    },
    {
      "cell_type": "markdown",
      "metadata": {
        "id": "FLU2CwhwmB-_"
      },
      "source": [
        "3. (1 балл) Вводится целое неотрицательное число $N$. Выведите $2$ в степени $N$."
      ]
    },
    {
      "cell_type": "code",
      "metadata": {
        "colab": {
          "base_uri": "https://localhost:8080/"
        },
        "id": "8vymxnC6mB_B",
        "outputId": "05592630-9ac0-48d6-a1aa-8b5f55787d64"
      },
      "source": [
        "n = int(input('Введите целое неотрицательное число - '))\n",
        "print(n ** 2)"
      ],
      "execution_count": 36,
      "outputs": [
        {
          "output_type": "stream",
          "name": "stdout",
          "text": [
            "Введите целое неотрицательное число - 2\n",
            "4\n"
          ]
        }
      ]
    },
    {
      "cell_type": "markdown",
      "metadata": {
        "id": "lDcZPjHHmB_B"
      },
      "source": [
        "4. (1 балл) Пётр Иванович хочет испечь большую печеньку. У него есть форма для выпечки диаметром $45$ сантиметров и высотой $5$ сантиметров. Посчитайте, какого объема будет печенька Петра Ивановича. Результат положите в переменную `area_of_circle`"
      ]
    },
    {
      "cell_type": "code",
      "metadata": {
        "colab": {
          "base_uri": "https://localhost:8080/"
        },
        "id": "qv8YxoZomB_B",
        "outputId": "aea209cf-1433-4dd4-a56e-96a0f9ff4861"
      },
      "source": [
        "import math\n",
        "d = int(input('Диаметр - '))\n",
        "h = int(input('Высота - '))\n",
        "area_of_circle = math.pi * ((d/2) ** 2) * h\n",
        "print('Объем печеньки - ', (area_of_circle))"
      ],
      "execution_count": null,
      "outputs": [
        {
          "output_type": "stream",
          "name": "stdout",
          "text": [
            "Диаметр - 45\n",
            "Высота - 5\n",
            "Объем печеньки -  7952.156404399164\n"
          ]
        }
      ]
    },
    {
      "cell_type": "markdown",
      "metadata": {
        "id": "Kd1PBPY3mB_C"
      },
      "source": [
        "5. (1 балл) Белочки делят между собой орешки. Если орешки поровну не делятся, остаток остается в дупле. Напишите программу, которая принимает количество белочек и орешков, а на выходе дает число орешков, которое получит каждая белочка."
      ]
    },
    {
      "cell_type": "code",
      "metadata": {
        "colab": {
          "base_uri": "https://localhost:8080/"
        },
        "id": "r6WzKLwHmB_C",
        "outputId": "9da3bce1-e74e-4232-c5fe-4a1434418d16"
      },
      "source": [
        "bel = int(input('Количество белочек - '))\n",
        "ore = int(input('Количество орешков - '))\n",
        "print('Орешков у каждой белочки - ', (int(ore // bel)))\n",
        "print('Орешков в дупле - ', (int(ore % bel)))"
      ],
      "execution_count": null,
      "outputs": [
        {
          "output_type": "stream",
          "name": "stdout",
          "text": [
            "Количество белочек - 3\n",
            "Количество орешков - 11\n",
            "Орешков у каждой белочки -  3\n",
            "Орешков в дупле -  2\n"
          ]
        }
      ]
    },
    {
      "cell_type": "markdown",
      "metadata": {
        "id": "Y6jGfqvHmB_D"
      },
      "source": [
        "6. (1 балл) Напишите программу, которая считывает два целых числа $a$ и $b$ и выводит наибольшее значение из них (без использования условий)."
      ]
    },
    {
      "cell_type": "code",
      "metadata": {
        "colab": {
          "base_uri": "https://localhost:8080/"
        },
        "id": "b23VAe67mB_D",
        "outputId": "24e5d468-a0f0-4e1f-fffe-e196d3b523db"
      },
      "source": [
        "a = int(input('a - '))\n",
        "b = int(input('b - '))\n",
        "print('Наибольшее значение - ', max(a, b))"
      ],
      "execution_count": null,
      "outputs": [
        {
          "output_type": "stream",
          "name": "stdout",
          "text": [
            "a - 82\n",
            "b - 482\n",
            "Наибольшее значение -  482\n"
          ]
        }
      ]
    },
    {
      "cell_type": "markdown",
      "metadata": {
        "id": "zWtzW4jDmB_D"
      },
      "source": [
        "7. (1 балла) Получите с помощью функции `input()` строку с числом и приведите число в тип `float`. Полученное число присвойте переменной `float_number`"
      ]
    },
    {
      "cell_type": "code",
      "metadata": {
        "id": "eWjtF4OtmB_D",
        "colab": {
          "base_uri": "https://localhost:8080/"
        },
        "outputId": "2ece8d19-e565-4a37-9877-47ece1324247"
      },
      "source": [
        "a = str(input('Число - '))\n",
        "float_number = float(a)\n",
        "print(float_number)"
      ],
      "execution_count": 4,
      "outputs": [
        {
          "output_type": "stream",
          "name": "stdout",
          "text": [
            "Число - 53\n",
            "53.0\n"
          ]
        }
      ]
    },
    {
      "cell_type": "markdown",
      "metadata": {
        "id": "5fQg1mzemB_E"
      },
      "source": [
        "### Часть 2. Строки (5 баллов)"
      ]
    },
    {
      "cell_type": "markdown",
      "metadata": {
        "id": "S8061OxKmB_E"
      },
      "source": [
        "8. (1 балл) Используйте на переменную со значением hello методы строк:\n",
        "\n",
        "`.capitalize()`\n",
        "\n",
        "`.lower()`\n",
        "\n",
        "`.upper()`\n",
        "\n",
        "Опишите что они делают в комментарии (пишите ответ как комментарий к пустой строке)"
      ]
    },
    {
      "cell_type": "code",
      "metadata": {
        "id": "m1gi2raAmB_E",
        "colab": {
          "base_uri": "https://localhost:8080/"
        },
        "outputId": "99e2f02d-7881-416e-e51f-21a0d44f726f"
      },
      "source": [
        "a = str('hello WORLD')\n",
        "print(str.capitalize(a))\n",
        "print(str.lower(a))\n",
        "print(str.upper(a))\n",
        "# capitalize - Первую букву делает большой, остальные - маленькими\n",
        "# lower - Все буквы делает маленькими\n",
        "# upper - Все буквы делает большими"
      ],
      "execution_count": 5,
      "outputs": [
        {
          "output_type": "stream",
          "name": "stdout",
          "text": [
            "Hello world\n",
            "hello world\n",
            "HELLO WORLD\n"
          ]
        }
      ]
    },
    {
      "cell_type": "markdown",
      "metadata": {
        "id": "BdWRgXKpmB_F"
      },
      "source": [
        "9. (1 балл) Создайте две переменные типа `str` (строка) со значениями hello и world (например s1 и s2). Сложите их и напечатайте результат."
      ]
    },
    {
      "cell_type": "code",
      "metadata": {
        "id": "YJhjtMwBmB_F",
        "colab": {
          "base_uri": "https://localhost:8080/"
        },
        "outputId": "64e34221-ec8a-46d9-81f1-940a2edbea5e"
      },
      "source": [
        "a = str('hello ')\n",
        "b = str('world')\n",
        "print(a + b)"
      ],
      "execution_count": 37,
      "outputs": [
        {
          "output_type": "stream",
          "name": "stdout",
          "text": [
            "hello world\n"
          ]
        }
      ]
    },
    {
      "cell_type": "markdown",
      "metadata": {
        "id": "SA3QW6AGmB_F"
      },
      "source": [
        "10. (1 балл)\n",
        "\n",
        "    - Воспользуйтесь функцией `len()` для того чтобы посчитать длину (количество **символов**) детской песни Солнечный круг \n",
        "    - Посчитайте длину (количество символов) в песне Let it be\n",
        "    - Какая из песен длиннее и на сколько **символов**?\n",
        "\n",
        "_Hint: тексты обеих песен приведены ниже._\n",
        "\n",
        "_Hint 2: `len()` это не метод, а функция_"
      ]
    },
    {
      "cell_type": "code",
      "metadata": {
        "id": "5-uezdnhmB_F"
      },
      "source": [
        "sun_circle  = '''Солнечный круг, небо вокруг\n",
        "Это рисунок мальчишки\n",
        "Нарисовал он на листке\n",
        "И подписал в уголке\n",
        "Пусть всегда будет солнце\n",
        "Пусть всегда будет небо\n",
        "Пусть всегда будет мама\n",
        "Пусть всегда буду я\n",
        "Пусть всегда будет солнце\n",
        "Пусть всегда будет небо\n",
        "Пусть всегда будет мама\n",
        "Пусть всегда буду я\n",
        "Милый мой друг, добрый мой друг\n",
        "Людям так хочется мира\n",
        "И в тридцать пять сердце опять\n",
        "Не устаёт повторять\n",
        "Пусть всегда будет солнце\n",
        "Пусть всегда будет небо\n",
        "Пусть всегда будет мама\n",
        "Пусть всегда буду я\n",
        "Пусть всегда будет солнце\n",
        "Пусть всегда будет небо\n",
        "Пусть всегда будет мама\n",
        "Пусть всегда буду я\n",
        "Тише солдат, слышишь солдат\n",
        "Люди пугаются взрывов\n",
        "Тысячи глаз в небо глядят\n",
        "Губы упрямо твердят\n",
        "Пусть всегда будет солнце\n",
        "Пусть всегда будет небо\n",
        "Пусть всегда будет мама\n",
        "Пусть всегда буду я\n",
        "Пусть всегда будет солнце\n",
        "Пусть всегда будет небо\n",
        "Пусть всегда будет мама\n",
        "Пусть всегда буду я\n",
        "Против беды, против войны\n",
        "Станем за наших мальчишек\n",
        "Солнце навек, счастье навек\n",
        "Так повелел человек\n",
        "Пусть всегда будет солнце\n",
        "Пусть всегда будет небо\n",
        "Пусть всегда будет мама\n",
        "Пусть всегда буду я\n",
        "Пусть всегда будет солнце\n",
        "Пусть всегда будет небо\n",
        "Пусть всегда будет мама\n",
        "Пусть всегда буду я'''\n",
        "\n",
        "\n",
        "let_it_be = '''\n",
        "When I find myself in times of trouble, Mother Mary comes to me\n",
        "Speaking words of wisdom, let it be\n",
        "And in my hour of darkness she is standing right in front of me\n",
        "Speaking words of wisdom, let it be\n",
        "Let it be, let it be, let it be, let it be\n",
        "Whisper words of wisdom, let it be\n",
        "And when the broken-hearted people living in the world agree\n",
        "There will be an answer, let it be\n",
        "For though they may be parted, there is still a chance that they will see\n",
        "There will be an answer, let it be\n",
        "Let it be, let it be, let it be, let it be\n",
        "Yeah, there will be an answer, let it be\n",
        "Let it be, let it be, let it be, let it be\n",
        "Whisper words of wisdom, let it be\n",
        "Let it be, let it be, let it be, yeah, let it be\n",
        "Whisper words of wisdom, let it be\n",
        "And when the night is cloudy there is still a light that shines on me\n",
        "Shine until tomorrow, let it be\n",
        "I wake up to the sound of music, Mother Mary comes to me\n",
        "Speaking words of wisdom, let it be\n",
        "Let it be, let it be, let it be, yeah, let it be\n",
        "There will be an answer, let it be\n",
        "Let it be, let it be, let it be, yeah, let it be\n",
        "There will be an answer, let it be\n",
        "Let it be, let it be, let it be, yeah, let it be\n",
        "Whisper words of wisdom, let it be\n",
        "'''"
      ],
      "execution_count": 8,
      "outputs": []
    },
    {
      "cell_type": "code",
      "metadata": {
        "id": "efgy27aOmB_G",
        "colab": {
          "base_uri": "https://localhost:8080/"
        },
        "outputId": "1ec47f56-cd55-40ed-c3ac-bc52dc4e787d"
      },
      "source": [
        "s = len(sun_circle)\n",
        "l = len(let_it_be)\n",
        "print('Количество символов в песне \"Солнечный круг\" - ', s)\n",
        "print('Количество символов в песне \"Let it be\" - ', l)\n",
        "\n",
        "if (s > l):\n",
        "  print('Песня \"Солнечный круг\" больше песни \"Let it be\" на', (int(s - l)), 'символов')\n",
        "\n",
        "if (l > s):\n",
        "  print('Песня \"Let it be\" больше песни \"Солнечный круг\" на', (int(l - s)), 'символов')"
      ],
      "execution_count": 9,
      "outputs": [
        {
          "output_type": "stream",
          "name": "stdout",
          "text": [
            "Количество символов в песне \"Солнечный круг\" -  1146\n",
            "Количество символов в песне \"Let it be\" -  1177\n",
            "Песня \"Let it be\" больше песни \"Солнечный круг\" на 31 символов\n"
          ]
        }
      ]
    },
    {
      "cell_type": "markdown",
      "metadata": {
        "id": "TMfNQBnimB_H"
      },
      "source": [
        "11. (2 балла)\n",
        "\n",
        "    - Чего больше: слов \"Пусть всегда\" в детской песне или слов \"Let it be\" в песне ливерпульской четверки?\n",
        "\n",
        "*Hint: Воспользуйтесь методом `.count()`*\n",
        "\n",
        "*Hint 2: Слова \"Let it be\" встречаются в песне как с заглавной, так и со строчной буквы, учтите это при подсчете*"
      ]
    },
    {
      "cell_type": "code",
      "metadata": {
        "id": "mQirQYzD-A2Y",
        "colab": {
          "base_uri": "https://localhost:8080/"
        },
        "outputId": "ebb886a4-f7fc-42bf-8569-817349b5dc4d"
      },
      "source": [
        "sun_circle_low = str.lower(sun_circle)\n",
        "let_it_be_low = str.lower(let_it_be)\n",
        "\n",
        "sn = sun_circle_low.count('пусть всегда')\n",
        "ln = let_it_be_low.count('let it be')\n",
        "\n",
        "if (sn > ln):\n",
        "  print('Cлов \"Пусть всегда\" в детской песне больше чем слов \"Let it be\" в песне ливерпульской четверки')\n",
        "\n",
        "if (ln > sn):\n",
        "  print('Cлов \"Пусть всегда\" в детской песне меньше чем слов \"Let it be\" в песне ливерпульской четверки')"
      ],
      "execution_count": 10,
      "outputs": [
        {
          "output_type": "stream",
          "name": "stdout",
          "text": [
            "Cлов \"Пусть всегда\" в детской песне меньше чем слов \"Let it be\" в песне ливерпульской четверки\n"
          ]
        }
      ]
    },
    {
      "cell_type": "markdown",
      "metadata": {
        "id": "_RpGCxj3mB_H"
      },
      "source": [
        "### Часть 3. Условия (5 баллов)"
      ]
    },
    {
      "cell_type": "markdown",
      "metadata": {
        "id": "gwBLQuKJmB_H"
      },
      "source": [
        "12. (1 балл) Дано целое число $x$. Проверить, является ли число положительным."
      ]
    },
    {
      "cell_type": "code",
      "metadata": {
        "id": "4rzLvWy_mB_H",
        "colab": {
          "base_uri": "https://localhost:8080/"
        },
        "outputId": "709c03eb-14dc-409d-fe47-77c881dd7d52"
      },
      "source": [
        "x = 10\n",
        "if (x > 0):\n",
        "  print('Число является положительным')\n",
        "else:\n",
        "  print('Число не является положительным')"
      ],
      "execution_count": null,
      "outputs": [
        {
          "output_type": "stream",
          "name": "stdout",
          "text": [
            "Число является положительным\n"
          ]
        }
      ]
    },
    {
      "cell_type": "markdown",
      "metadata": {
        "id": "uFWvoRNEmB_I"
      },
      "source": [
        "13. (1 балл) Дано число $x$  типа `float` (с плавающей запятой). Проверить, является ли это число целым.\n",
        "\n",
        "_Hint: можно загуглить 'преобразование типов, python'_"
      ]
    },
    {
      "cell_type": "code",
      "metadata": {
        "id": "g2IM_prJmB_I",
        "colab": {
          "base_uri": "https://localhost:8080/"
        },
        "outputId": "09f61f49-4405-4bdc-ee7c-216a8061729a"
      },
      "source": [
        "x = 10.99\n",
        "if ((int(x)) == (float(x))):\n",
        "  print('Число является целым')\n",
        "else:\n",
        "  print('Число не является целым')"
      ],
      "execution_count": 12,
      "outputs": [
        {
          "output_type": "stream",
          "name": "stdout",
          "text": [
            "Число не является целым\n"
          ]
        }
      ]
    },
    {
      "cell_type": "markdown",
      "metadata": {
        "id": "vcZ6JpcVmB_I"
      },
      "source": [
        "14. (1 балл) Напишите программу, которая считывает два целых числа $a$ и $b$ и выводит наибольшее значение из них (c использованием условий)."
      ]
    },
    {
      "cell_type": "code",
      "metadata": {
        "id": "q048UQ-JmB_I",
        "colab": {
          "base_uri": "https://localhost:8080/"
        },
        "outputId": "b118dece-d7f1-4168-901f-013f883d0564"
      },
      "source": [
        "a = int(input('a - '))\n",
        "b = int(input('b - '))\n",
        "\n",
        "if (a > b):\n",
        "  print('Наибольшее значение -', a)\n",
        "if (a < b):\n",
        "  print('Наибольшее значение -', b)\n",
        "if (a == b):\n",
        "  print('Значение обоих чисел равно -', b)"
      ],
      "execution_count": 38,
      "outputs": [
        {
          "output_type": "stream",
          "name": "stdout",
          "text": [
            "a - 55\n",
            "b - 55\n",
            "Значение обоих чисел равно - 55\n"
          ]
        }
      ]
    },
    {
      "cell_type": "markdown",
      "metadata": {
        "id": "K8VW6Bs0mB_I"
      },
      "source": [
        "15. (1 балл) Вася уехал учиться по обмену на один семестр в Италию. Единственный магазин в городе открыт с $6$ до $8$ утра и с $16$ до $17$ вечера (включительно). Вася не мог попасть в магазин уже несколько дней и страдает от голода. Он может прийти в магазин в $X$ часов. Если магазин открыт в $X$ часов, то выведите `True`, а если закрыт - выведите `False`."
      ]
    },
    {
      "cell_type": "code",
      "metadata": {
        "id": "Y48nxNQ0mB_I",
        "colab": {
          "base_uri": "https://localhost:8080/"
        },
        "outputId": "84fde0af-baf2-4ea1-9b17-dc92d7f8bedf"
      },
      "source": [
        "x = 7\n",
        "\n",
        "if (6 <= x <= 8) or (16 <= x <= 17):\n",
        "  print(True)\n",
        "else:\n",
        "  print(False)"
      ],
      "execution_count": 40,
      "outputs": [
        {
          "output_type": "stream",
          "name": "stdout",
          "text": [
            "True\n"
          ]
        }
      ]
    },
    {
      "cell_type": "markdown",
      "metadata": {
        "id": "-InnK0GLmB_J"
      },
      "source": [
        "16. (1 балл) Помогите Даше определить, является ли год с данным номером високосным. Если год является високосным, то выведите `YES`, иначе выведите `NO`. Напомним, что в соответствии с григорианским календарем, год является високосным, если его номер кратен 4, но не кратен 100, а также если он кратен 400."
      ]
    },
    {
      "cell_type": "code",
      "metadata": {
        "id": "SzzJTS-EmB_J",
        "colab": {
          "base_uri": "https://localhost:8080/"
        },
        "outputId": "023e7d1e-b5e0-495b-d9a2-f866784994dc"
      },
      "source": [
        "x = int(input('Год - '))\n",
        "\n",
        "if x % 4 == 0 and x % 100 != 0 or x % 400 == 0:\n",
        "  print('YES')\n",
        "else:\n",
        "  print('NO')"
      ],
      "execution_count": 42,
      "outputs": [
        {
          "output_type": "stream",
          "name": "stdout",
          "text": [
            "Год - 2000\n",
            "YES\n"
          ]
        }
      ]
    },
    {
      "cell_type": "markdown",
      "metadata": {
        "id": "f4mtffw3mB_J"
      },
      "source": [
        "### Часть 4. Циклы (6 баллов)"
      ]
    },
    {
      "cell_type": "markdown",
      "metadata": {
        "id": "pko9TzIXmB_J"
      },
      "source": [
        "17. (1 балл) Напишите бесконечный цикл (любой)"
      ]
    },
    {
      "cell_type": "code",
      "metadata": {
        "id": "gLKGsTa8mB_J"
      },
      "source": [
        "while (2 > 1):\n",
        "  print('хммммм')"
      ],
      "execution_count": null,
      "outputs": []
    },
    {
      "cell_type": "markdown",
      "metadata": {
        "id": "-h3ust4dmB_J"
      },
      "source": [
        "18. (1 балл) Вывести числа от 5 до 20"
      ]
    },
    {
      "cell_type": "code",
      "metadata": {
        "id": "KGbI7mlkmB_J",
        "colab": {
          "base_uri": "https://localhost:8080/"
        },
        "outputId": "f132787a-afe0-4aeb-d6f9-0381d311a2a8"
      },
      "source": [
        "for i in range(5, 21):\n",
        "  print(i)"
      ],
      "execution_count": 28,
      "outputs": [
        {
          "output_type": "stream",
          "name": "stdout",
          "text": [
            "5\n",
            "6\n",
            "7\n",
            "8\n",
            "9\n",
            "10\n",
            "11\n",
            "12\n",
            "13\n",
            "14\n",
            "15\n",
            "16\n",
            "17\n",
            "18\n",
            "19\n",
            "20\n"
          ]
        }
      ]
    },
    {
      "cell_type": "markdown",
      "metadata": {
        "id": "1qX2tNEdmB_J"
      },
      "source": [
        "19. (1 балл) Вывести все числа от 5 до 20 , кратные 3-м."
      ]
    },
    {
      "cell_type": "code",
      "metadata": {
        "id": "qtN2ECZpmB_K",
        "colab": {
          "base_uri": "https://localhost:8080/"
        },
        "outputId": "7181e51f-66a6-4d85-94ef-fa7178f5a2fe"
      },
      "source": [
        "for i in range(6, 21, 3):\n",
        "  print(i)"
      ],
      "execution_count": 33,
      "outputs": [
        {
          "output_type": "stream",
          "name": "stdout",
          "text": [
            "6\n",
            "9\n",
            "12\n",
            "15\n",
            "18\n"
          ]
        }
      ]
    },
    {
      "cell_type": "markdown",
      "metadata": {
        "id": "Pfs3ZBuzmB_K"
      },
      "source": [
        "20. (1 балл) Найти сумму натуральных чисел от 0 до n включительно"
      ]
    },
    {
      "cell_type": "code",
      "metadata": {
        "id": "F933zbG6mB_K",
        "colab": {
          "base_uri": "https://localhost:8080/"
        },
        "outputId": "a2b0679e-fd27-4015-857d-e62a58f7cfb9"
      },
      "source": [
        "n = 11\n",
        "\n",
        "sum(range(0, n+1))"
      ],
      "execution_count": 35,
      "outputs": [
        {
          "output_type": "execute_result",
          "data": {
            "text/plain": [
              "66"
            ]
          },
          "metadata": {},
          "execution_count": 35
        }
      ]
    },
    {
      "cell_type": "markdown",
      "metadata": {
        "id": "Tejb6jdumB_K"
      },
      "source": [
        "21. (1 балл) Вводится последовательность цифр. Например `\"126543168714\"`. Найти самую большую цифру, сохранить в переменную `largest_number`, вывести ее значение на экран."
      ]
    },
    {
      "cell_type": "code",
      "metadata": {
        "id": "98j-rp2GmB_K",
        "colab": {
          "base_uri": "https://localhost:8080/"
        },
        "outputId": "008a4a4f-c3a1-4a84-eb91-74f4d747e8fb"
      },
      "source": [
        "n = 126543168714\n",
        "largest_number = n%10\n",
        "n = (n // 10)\n",
        "while (n > 0):\n",
        "  if ((n%10) > largest_number):\n",
        "    largest_number = (n%10)\n",
        "  else:\n",
        "    n = (n // 10)\n",
        "print(largest_number)"
      ],
      "execution_count": null,
      "outputs": [
        {
          "output_type": "stream",
          "name": "stdout",
          "text": [
            "8\n"
          ]
        }
      ]
    },
    {
      "cell_type": "markdown",
      "metadata": {
        "id": "SfqQonqrmB_K"
      },
      "source": [
        "22. (1 балл) Пользователем вводится строка. Проверить, является ли строка палиндромом без использования срезов и списков (мы их еще не проходили). Записать ответ в булевом типе данных в переменную `is_palindrom`, вывести ее значение на экран."
      ]
    },
    {
      "cell_type": "code",
      "metadata": {
        "id": "kDbNY-bWmB_K",
        "colab": {
          "base_uri": "https://localhost:8080/"
        },
        "outputId": "7efd7af8-f8cf-4081-95c8-b203a8af6ae8"
      },
      "source": [
        "x = str(input('Слово или строка - '))\n",
        "x = str.lower(x)\n",
        "x.replace(\" \", \"\")\n",
        "if x == reversed(x):\n",
        "  is_palindrom = \"true\"\n",
        "  print(is_palindrom)\n",
        "else:\n",
        "  is_palindrom = \"false\"\n",
        "  print(is_palindrom)"
      ],
      "execution_count": null,
      "outputs": [
        {
          "output_type": "stream",
          "name": "stdout",
          "text": [
            "Слово или строка - 1Дд1\n",
            "false\n"
          ]
        }
      ]
    },
    {
      "cell_type": "markdown",
      "metadata": {
        "id": "ykzOQoYamB_K"
      },
      "source": [
        "### Бонусное задание (2 балла):"
      ]
    },
    {
      "cell_type": "markdown",
      "metadata": {
        "id": "Ao9mr74YmB_L"
      },
      "source": [
        "23. (2 балла) \n",
        "\n",
        "В турецком языке все гласные делятся на:\n",
        "\n",
        "негубные:\n",
        "`non_labials = \"aıei\"`\n",
        "\n",
        "губные:\n",
        "`labials = \"ouöü\"`\n",
        "\n",
        "Суть закона гармонии гласных состоит в следующем: все гласные в слове должны быть из одного класса.\n",
        "\n",
        "Вводится слово. Проверьте, подчиняется ли данное слово закону гармонии гласных в турецком языке. Ответ (`True` или `False`) сохранить в переменную rule и вывести ее на экран.\n",
        "\n",
        "Примеры:\n",
        "\n",
        "yaşlıdı (True)\n",
        "\n",
        "yaşlıdü (False)\n",
        "\n",
        "üzgündü (True)\n",
        "\n",
        "üzgündi (False)"
      ]
    },
    {
      "cell_type": "code",
      "metadata": {
        "id": "uD52bBHAmB_L",
        "colab": {
          "base_uri": "https://localhost:8080/"
        },
        "outputId": "3deaa56d-7d05-4f4c-af61-ee14188c3203"
      },
      "source": [
        "x = str(input('Слово - '))\n",
        "x = str.lower(x)\n",
        "\n",
        "if x.find(\"a\"):\n",
        "  non_labials = 1\n",
        "elif x.find(\"ı\"):\n",
        "  non_labials = 1\n",
        "elif x.find(\"e\"):\n",
        "  non_labials = 1\n",
        "elif x.find(\"i\"):\n",
        "  non_labials = 1\n",
        "else:\n",
        "  non_labials = 0\n",
        "\n",
        "if x.find(\"o\"):\n",
        "  labials = 1\n",
        "elif x.find(\"u\"):\n",
        "  labials = 1\n",
        "elif x.find(\"ö\"):\n",
        "  labials = 1\n",
        "elif x.find(\"ü\"):\n",
        "  labials = 1\n",
        "else:\n",
        "  labials = 0\n",
        "\n",
        "non_labials + labials == 1\n",
        "\n",
        "if non_labials + labials == 1:\n",
        "  rule = \"true\"\n",
        "  print(is_palindrom)\n",
        "else:\n",
        "  rule = \"false\"\n",
        "  print(is_palindrom)"
      ],
      "execution_count": null,
      "outputs": [
        {
          "output_type": "stream",
          "name": "stdout",
          "text": [
            "Слово - a\n",
            "false\n"
          ]
        }
      ]
    },
    {
      "cell_type": "markdown",
      "metadata": {
        "id": "Z1BkJELmmB_L"
      },
      "source": [
        "#### Напишите ниже вашу обратную связь по домашнему заданию в комментарии. \n",
        "\n",
        "#### Какие задания показались вам самыми сложными / простыми? Что понравилось, а что нет?"
      ]
    },
    {
      "cell_type": "code",
      "metadata": {
        "id": "PJD14Yp_mB_L",
        "colab": {
          "base_uri": "https://localhost:8080/"
        },
        "outputId": "58949365-bbeb-4b9f-a1c4-670584e06dce"
      },
      "source": [
        "x = str(input('Слово - '))\n",
        "x = str.lower(x)\n",
        "\n",
        "if x.find(\"a\") or x.find(\"ı\") or x.find(\"e\") or x.find(\"i\"):\n",
        "  non_labials = 1\n",
        "else:\n",
        "  non_labials = 0\n",
        "\n",
        "print(non_labials)"
      ],
      "execution_count": null,
      "outputs": [
        {
          "output_type": "stream",
          "name": "stdout",
          "text": [
            "Слово - üzgündü\n",
            "1\n"
          ]
        }
      ]
    },
    {
      "cell_type": "code",
      "metadata": {
        "colab": {
          "base_uri": "https://localhost:8080/"
        },
        "id": "f_kH_my2HHWL",
        "outputId": "02c2be50-fedf-4f74-b4de-27de75881b96"
      },
      "source": [
        "x = str(input('Слово или строка - '))\n",
        "x = str.lower(x)\n",
        "x.replace(\" \", \"\")\n",
        "x = reversed(x)\n",
        "print(x)"
      ],
      "execution_count": null,
      "outputs": [
        {
          "output_type": "stream",
          "name": "stdout",
          "text": [
            "Слово или строка - dfghjkl\n",
            "140264714278672\n"
          ]
        }
      ]
    },
    {
      "cell_type": "code",
      "metadata": {
        "id": "Oue2Eu5K_R9f"
      },
      "source": [
        "n = 126543168714\n",
        "largest_number = n%10\n",
        "n = (n // 10)\n",
        "while (n > 0):\n",
        "  if ((n%10) > largest_number):\n",
        "    largest_number = (n%10)\n",
        "  else:\n",
        "    n = (n // 10)\n",
        "print(largest_number)"
      ],
      "execution_count": null,
      "outputs": []
    }
  ]
}