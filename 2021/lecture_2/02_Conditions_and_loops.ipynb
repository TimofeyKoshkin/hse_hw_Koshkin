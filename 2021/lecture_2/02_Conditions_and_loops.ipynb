{
 "cells": [
  {
   "cell_type": "markdown",
   "metadata": {},
   "source": [
    "# 2.1 Условия и циклы в Python"
   ]
  },
  {
   "cell_type": "markdown",
   "metadata": {},
   "source": [
    "### Условный переход\n",
    "\n",
    "Одной из отличительных черт языка программирования перед калькулятором является возможность \"принятия решения\". Производится это при помощи оператора условного перехода if:\n"
   ]
  },
  {
   "cell_type": "code",
   "execution_count": null,
   "metadata": {},
   "outputs": [],
   "source": [
    "x"
   ]
  },
  {
   "cell_type": "code",
   "execution_count": null,
   "metadata": {},
   "outputs": [],
   "source": [
    "x = 11\n",
    "if x > 0:\n",
    "    x = x + 10\n",
    "    print(x)"
   ]
  },
  {
   "cell_type": "code",
   "execution_count": null,
   "metadata": {},
   "outputs": [],
   "source": [
    "x"
   ]
  },
  {
   "cell_type": "code",
   "execution_count": null,
   "metadata": {},
   "outputs": [],
   "source": [
    "x = -10\n",
    "if x < 0:\n",
    "    print('mfdnsbkdjgbgtkjs')"
   ]
  },
  {
   "cell_type": "markdown",
   "metadata": {},
   "source": [
    "Условный переход задается конструкцией if **expr** : **body**    Синтаксис языка таков, что \"внутри условия\" считается все, что находится после него на расстоянии одного отступа (табуляция).\n",
    "\n",
    "Подобный механизм нужен для того, чтобы \"менять ход программы\" когда часть переменых нам неизвестна (считывается из файла, вводится с клавиатуры, приходит из сети и т.п.). \n",
    "Поставим такую задачу: задана переменная x. Необходимо вывести 'positive' если $$x > 0$$, и 'not positive', если $$ x \\le 0$$"
   ]
  },
  {
   "cell_type": "markdown",
   "metadata": {},
   "source": [
    "Уже знакомыми нам средствами это вполне можно сделать (меняйте значение x для того, чтобы убедиться в правильности кода):"
   ]
  },
  {
   "cell_type": "code",
   "execution_count": null,
   "metadata": {},
   "outputs": [],
   "source": [
    "x = 0\n",
    "\n",
    "if x > 0:\n",
    "    print(\"positive\")\n",
    "if x < 0:\n",
    "    print(\"negative\")"
   ]
  },
  {
   "cell_type": "markdown",
   "metadata": {},
   "source": [
    "Однако понятно, что на самом деле мы дважды проверяем одно и то же условие: проверку положительности $x$, просто наша реакция на истинность условия и ложность условия разная. \n",
    "\n",
    "Стандартные средства языка python позволяют избежать подобной процедуры при помощи оператора **else**:"
   ]
  },
  {
   "cell_type": "code",
   "execution_count": null,
   "metadata": {},
   "outputs": [],
   "source": [
    "x = 0\n",
    "\n",
    "if x > 0:\n",
    "    print('positive')\n",
    "else:\n",
    "    print('negative')"
   ]
  },
  {
   "cell_type": "markdown",
   "metadata": {},
   "source": [
    "Теперь поменяем задачу: нам надо определить, является ли число x положительным, отрицательным или нулем. В целом процедура во многом схожая:"
   ]
  },
  {
   "cell_type": "code",
   "execution_count": null,
   "metadata": {},
   "outputs": [],
   "source": [
    "x = 10\n",
    "\n",
    "if x > 0:\n",
    "    print('positive')\n",
    "elif x >= 0:\n",
    "    print('zero')\n",
    "else:\n",
    "    print('negative')\n",
    "    "
   ]
  },
  {
   "cell_type": "code",
   "execution_count": null,
   "metadata": {},
   "outputs": [],
   "source": [
    "x = \"can\"\n",
    "\n",
    "if \"c\" in x:\n",
    "    print('1.1')\n",
    "    if 't' in x:\n",
    "        print(\"1.1.1\")\n",
    "    elif 'm' in x:\n",
    "        print('1.1.2')\n",
    "    else:\n",
    "        print(\"1.1.3\")\n",
    "elif 'a' in x:\n",
    "    print(\"1.2\")\n",
    "elif 'b' in x:\n",
    "    print('1.3')\n",
    "else:\n",
    "    print('1.4')\n",
    "if 'f' in x:\n",
    "    print(\"2.1\")"
   ]
  },
  {
   "cell_type": "markdown",
   "metadata": {},
   "source": [
    "Одной из главных странностей, которые здесь могут смутить - это два знака равенства при проверке нуля. Суть в следующем: одиночное равенство воспринялось бы интерпретаторо в том выражении как \"записать в переменную x ноль\". А операция \"проверить, не равно ли\" записывается двойным равенством. Вот список прочих операций сравнения переменных. \n",
    "\n",
    "$<$ меньше\n",
    "\n",
    "$>$ больше \n",
    "    \n",
    "$<$= меньше или равно \n",
    "    \n",
    "$>$= больше или равно \n",
    "    \n",
    "== равно\n",
    "    \n",
    "!= неравно\n",
    "\n",
    "\n",
    "Схожие операции можно использовать и для других типов данных, например для строк."
   ]
  },
  {
   "cell_type": "code",
   "execution_count": null,
   "metadata": {},
   "outputs": [],
   "source": [
    "if 'mama' == 'mama':\n",
    "    print('mama is equal mama')"
   ]
  },
  {
   "cell_type": "code",
   "execution_count": null,
   "metadata": {},
   "outputs": [],
   "source": [
    "if 'mama'.lower() != 'Mama'.lower():\n",
    "    print('mama is not equal Mama')"
   ]
  },
  {
   "cell_type": "code",
   "execution_count": null,
   "metadata": {},
   "outputs": [],
   "source": [
    "if 10 < 3:\n",
    "    print('10 is 3 not greater bca')"
   ]
  },
  {
   "cell_type": "markdown",
   "metadata": {},
   "source": [
    "А что самое интересное, выражение после условия так же имеет свой тип:"
   ]
  },
  {
   "cell_type": "code",
   "execution_count": 51,
   "metadata": {},
   "outputs": [
    {
     "name": "stdout",
     "output_type": "stream",
     "text": [
      "False\n",
      "True\n",
      "<class 'bool'>\n"
     ]
    }
   ],
   "source": [
    "print(0 > 1)\n",
    "print(0 < 1)\n",
    "print(type(0 > 1))"
   ]
  },
  {
   "cell_type": "markdown",
   "metadata": {},
   "source": [
    "Если вы немножко знакомы с логикой и логическими операциями, то операций **or** и **and** вам точно не нужно бояться "
   ]
  },
  {
   "cell_type": "code",
   "execution_count": null,
   "metadata": {},
   "outputs": [],
   "source": [
    "print((1 > 0) and (1 < 0))\n",
    "print((1 > 0) or (1 < 0))"
   ]
  },
  {
   "cell_type": "markdown",
   "metadata": {},
   "source": [
    "Отлично, запишем, как работают эти логические операции:"
   ]
  },
  {
   "cell_type": "code",
   "execution_count": null,
   "metadata": {},
   "outputs": [],
   "source": [
    "print(f\"if x is {True},\\t y is {True},\\t (x and y) is {True and True}\")\n",
    "print(f\"if x is {False},\\t y is {False},\\t (x and y) is {False and False}\")\n",
    "print(f\"if x is {False},\\t y is {True},\\t (x and y) is {False and True}\")\n",
    "print(f\"if x is {True},\\t y is {False},\\t (x and y) is {True and False}\")"
   ]
  },
  {
   "cell_type": "code",
   "execution_count": null,
   "metadata": {},
   "outputs": [],
   "source": [
    "print(f\"if x is {True},\\t y is {True},\\t (x or y) is {True or True}\")\n",
    "print(f\"if x is {False},\\t y is {False},\\t (x or y) is {False or False}\")\n",
    "print(f\"if x is {False},\\t y is {True},\\t (x or y) is {False or True}\")\n",
    "print(f\"if x is {True},\\t y is {False},\\t (x or y) is {True or False}\")"
   ]
  },
  {
   "cell_type": "markdown",
   "metadata": {},
   "source": [
    "Сравните с таблицей истинности:"
   ]
  },
  {
   "cell_type": "markdown",
   "metadata": {},
   "source": [
    "![](../img/orand.jpg)"
   ]
  },
  {
   "cell_type": "markdown",
   "metadata": {},
   "source": [
    "True похожа на 1, а False на 0? Так и есть!"
   ]
  },
  {
   "cell_type": "code",
   "execution_count": 16,
   "metadata": {},
   "outputs": [
    {
     "data": {
      "text/plain": [
       "'True is 1, False is 0'"
      ]
     },
     "execution_count": 16,
     "metadata": {},
     "output_type": "execute_result"
    }
   ],
   "source": [
    "f\"True is {int(True)}, False is {int(False)}\""
   ]
  },
  {
   "cell_type": "code",
   "execution_count": 17,
   "metadata": {},
   "outputs": [
    {
     "data": {
      "text/plain": [
       "'True is True, False is False'"
      ]
     },
     "execution_count": 17,
     "metadata": {},
     "output_type": "execute_result"
    }
   ],
   "source": [
    "f\"True is {bool(1)}, False is {bool(0)}\""
   ]
  },
  {
   "cell_type": "code",
   "execution_count": 37,
   "metadata": {},
   "outputs": [
    {
     "data": {
      "text/plain": [
       "False"
      ]
     },
     "execution_count": 37,
     "metadata": {},
     "output_type": "execute_result"
    }
   ],
   "source": [
    "bool(0)"
   ]
  },
  {
   "cell_type": "code",
   "execution_count": 33,
   "metadata": {},
   "outputs": [
    {
     "name": "stdout",
     "output_type": "stream",
     "text": [
      "напишите 1 или 0, хотите ли вы приводить к ниж регистру текст0\n"
     ]
    }
   ],
   "source": [
    "x = int(input(\"напишите 1 или 0, хотите ли вы приводить к ниж регистру текст\"))"
   ]
  },
  {
   "cell_type": "code",
   "execution_count": 35,
   "metadata": {},
   "outputs": [
    {
     "name": "stdout",
     "output_type": "stream",
     "text": [
      "Мама мыла раму\n"
     ]
    }
   ],
   "source": [
    "text = \"Мама мыла раму\"\n",
    "\n",
    "if x:\n",
    "    print(text.lower())\n",
    "else:\n",
    "    print(text)"
   ]
  },
  {
   "cell_type": "markdown",
   "metadata": {},
   "source": [
    "Отлично. Теперь мы можем комбинировать самые разные условия при помощи этих операторов:"
   ]
  },
  {
   "cell_type": "code",
   "execution_count": 49,
   "metadata": {},
   "outputs": [
    {
     "name": "stdout",
     "output_type": "stream",
     "text": [
      "x can be a probability\n",
      "x is not one and is not zero\n"
     ]
    }
   ],
   "source": [
    "x = 0.6\n",
    "if (x >= 0.0) and (x <= 1.0):\n",
    "    print('x can be a probability')\n",
    "    if x == 0.0:\n",
    "        print('x is zero')\n",
    "    elif x == 1.0:\n",
    "        print('x is one')\n",
    "    else:\n",
    "        print(\"x is not one and is not zero\")\n",
    "else:\n",
    "    print('it\\'s impossible for x to be a probability')"
   ]
  },
  {
   "cell_type": "code",
   "execution_count": 50,
   "metadata": {},
   "outputs": [
    {
     "name": "stdout",
     "output_type": "stream",
     "text": [
      "x can be a probability\n",
      "x is not zero\n",
      "x is not one\n"
     ]
    }
   ],
   "source": [
    "x = 0.6\n",
    "if (x >= 0.0) and (x <= 1.0):\n",
    "    print('x can be a probability')\n",
    "    if x == 0.0:\n",
    "        print('x is zero')\n",
    "    else:\n",
    "        print(\"x is not zero\")\n",
    "    if x == 1.0:\n",
    "        print('x is one')\n",
    "    else:\n",
    "        print(\"x is not one\")\n",
    "else:\n",
    "    print('it\\'s impossible for x to be a probability')"
   ]
  },
  {
   "cell_type": "markdown",
   "metadata": {},
   "source": [
    "### Проверка на вхождение в строку"
   ]
  },
  {
   "cell_type": "markdown",
   "metadata": {},
   "source": [
    "Важно! Разные условия вы можете придумывать сами.\n",
    "Например, с прошлого занятия про строки:"
   ]
  },
  {
   "cell_type": "code",
   "execution_count": 52,
   "metadata": {},
   "outputs": [
    {
     "name": "stdout",
     "output_type": "stream",
     "text": [
      "yes\n"
     ]
    }
   ],
   "source": [
    "text = \"\"\"Production : SHVZVRA\n",
    "Cover : OCTO MADE & Угадай Кто\n",
    "Слушать : https://band.link/vUwCi\"\"\"\n",
    "\n",
    "if \"https://\" in text:\n",
    "    print(\"yes\")"
   ]
  },
  {
   "cell_type": "code",
   "execution_count": 53,
   "metadata": {},
   "outputs": [
    {
     "name": "stdout",
     "output_type": "stream",
     "text": [
      "niet\n"
     ]
    }
   ],
   "source": [
    "if \";\" in text:\n",
    "    print(\"yes\")\n",
    "else:\n",
    "    print(\"niet\")"
   ]
  },
  {
   "cell_type": "markdown",
   "metadata": {},
   "source": [
    "Дано: несколько постов из вк\n",
    "\n",
    "1) Вывести только те, которые не содержат ремиксы.\n",
    "\n",
    "2) Вывести только премьеры треков (не клипы)"
   ]
  },
  {
   "cell_type": "code",
   "execution_count": 60,
   "metadata": {},
   "outputs": [
    {
     "name": "stdout",
     "output_type": "stream",
     "text": [
      "Премьера клипа/трека: Баста & Zivert - Неболей\n",
      "Премьера клипа: Леван Горозия (ex.L’One) & ПААНДА - Худи\n"
     ]
    }
   ],
   "source": [
    "a = \"Премьера трека: Кравц & Fraank - Боди (Remix)\"\n",
    "b = \"Премьера клипа/трека: Баста & Zivert - Неболей\"\n",
    "c = \"Премьера клипа: Леван Горозия (ex.L’One) & ПААНДА - Худи\"\n",
    "\n",
    "# Ваш код для ремиксов\n",
    "if 'Remix' not in a:\n",
    "    print(a)\n",
    "if 'Remix' not in b:\n",
    "    print(b)\n",
    "if 'Remix' not in c:\n",
    "    print(c)"
   ]
  },
  {
   "cell_type": "code",
   "execution_count": 63,
   "metadata": {},
   "outputs": [
    {
     "name": "stdout",
     "output_type": "stream",
     "text": [
      "Премьера клипа/трека: Баста & Zivert - Неболей\n"
     ]
    }
   ],
   "source": [
    "a = \"Премьера трека: Кравц & Fraank - Боди (Remix)\"\n",
    "b = \"Премьера клипа/трека: Баста & Zivert - Неболей\"\n",
    "c = \"Премьера клипа: Леван Горозия (ex.L’One) & ПААНДА - Худи\"\n",
    "\n",
    "# Ваш код для треков/клипов\n",
    "if 'трек' in a:\n",
    "    if 'клип' in a:\n",
    "        print(a)\n",
    "if 'трек' in b:\n",
    "    if 'клип' in b:\n",
    "        print(b)\n",
    "if 'трек' in c:\n",
    "    if 'клип' in c:\n",
    "        print(c)"
   ]
  },
  {
   "cell_type": "markdown",
   "metadata": {},
   "source": [
    "### Циклы\n",
    "\n",
    "Еще одно преимущество языков программирования перед калькулятором: возможность задавать повторяющиеся операции. Более того, такая возможность дает несравнимое преимущество в каком-то смысле перед математикой. К примеру следующая задача: посчитать количиство способов разложить натуральное число $n$ на сумму натуральных чисел. Аналитической формулы такого числа просто не существует! А не самая сложная программа (основанная на базовых операциях, условных переходах и циклах) позволяет посчитать это число для достаточно больших $n$. "
   ]
  },
  {
   "cell_type": "markdown",
   "metadata": {},
   "source": [
    "Итак, циклы. Задача следующая: вывести числа 1, 2, 4, 8, 16, ..., 1024. Решение:"
   ]
  },
  {
   "cell_type": "code",
   "execution_count": 65,
   "metadata": {},
   "outputs": [
    {
     "name": "stdout",
     "output_type": "stream",
     "text": [
      "1\n",
      "2\n",
      "4\n",
      "8\n",
      "16\n",
      "32\n",
      "64\n",
      "128\n",
      "256\n",
      "512\n",
      "1024\n",
      "ypa\n"
     ]
    }
   ],
   "source": [
    "k = 1\n",
    "while k <= 1024:\n",
    "    print(k)\n",
    "    k = k * 2  # или k *= 2\n",
    "print(\"ypa\")"
   ]
  },
  {
   "cell_type": "code",
   "execution_count": 2,
   "metadata": {},
   "outputs": [
    {
     "name": "stdout",
     "output_type": "stream",
     "text": [
      "result: 1\n",
      "c:  1\n",
      "result: 2\n",
      "c:  2\n",
      "result: 4\n",
      "c:  3\n",
      "result: 8\n",
      "c:  4\n",
      "result: 16\n",
      "c:  5\n",
      "result: 32\n",
      "c:  6\n",
      "result: 64\n",
      "c:  7\n",
      "result: 128\n",
      "c:  8\n",
      "result: 256\n",
      "c:  9\n",
      "result: 512\n",
      "c:  10\n",
      "result: 1024\n",
      "c:  11\n",
      "ypa\n"
     ]
    }
   ],
   "source": [
    "result = 0\n",
    "c = 0\n",
    "while result < 1024:\n",
    "    result = 2 ** c \n",
    "    print(\"result:\", result)\n",
    "    c += 1\n",
    "    print(\"c: \", c)\n",
    "print(\"ypa\")"
   ]
  },
  {
   "cell_type": "markdown",
   "metadata": {},
   "source": [
    "Теперь подробнее про структуру такого цикла: \n",
    "\n",
    "**while** *condition* :\n",
    "\n",
    "пока условие *condition* выполнено, все, что написано после while с отступом (табуляцией) будет выполняться раз за разом. "
   ]
  },
  {
   "cell_type": "code",
   "execution_count": 3,
   "metadata": {},
   "outputs": [
    {
     "name": "stdout",
     "output_type": "stream",
     "text": [
      "k=-2, c=-2\n",
      "k=4, c=2\n",
      "k=-8, c=-6\n",
      "k=16, c=10\n",
      "k=-32, c=-22\n",
      "k=64, c=42\n",
      "k=-128, c=-86\n",
      "k=256, c=170\n",
      "This string is after cycle\n"
     ]
    }
   ],
   "source": [
    "k = 1\n",
    "c = 0\n",
    "while c < 100:\n",
    "    k *= -2\n",
    "    c += k\n",
    "    print(f\"k={k}, c={c}\")\n",
    "print('This string is after cycle')"
   ]
  },
  {
   "cell_type": "code",
   "execution_count": 7,
   "metadata": {},
   "outputs": [
    {
     "name": "stdout",
     "output_type": "stream",
     "text": [
      "11\n",
      "13\n",
      "17\n",
      "19\n",
      "23\n",
      "29\n",
      "31\n",
      "37\n",
      "41\n",
      "43\n",
      "47\n",
      "53\n",
      "59\n",
      "61\n",
      "67\n",
      "71\n",
      "73\n",
      "79\n",
      "83\n",
      "89\n",
      "97\n"
     ]
    }
   ],
   "source": [
    "k = 2\n",
    "while k <= 100:\n",
    "    if k%2 != 0 and k%3 != 0 and k%5 != 0 and k%7 != 0:\n",
    "        print(k)\n",
    "    k += 1  "
   ]
  },
  {
   "cell_type": "markdown",
   "metadata": {},
   "source": [
    "Но объявление переменной перед циклом и увеличение ее \"вручную\" - вещь надоедающая. Поэтому есть более простой способ объявления циклов."
   ]
  },
  {
   "cell_type": "code",
   "execution_count": 8,
   "metadata": {},
   "outputs": [
    {
     "data": {
      "text/plain": [
       "range(1, 10)"
      ]
     },
     "execution_count": 8,
     "metadata": {},
     "output_type": "execute_result"
    }
   ],
   "source": [
    "range(1, 10)"
   ]
  },
  {
   "cell_type": "code",
   "execution_count": 10,
   "metadata": {},
   "outputs": [
    {
     "name": "stdout",
     "output_type": "stream",
     "text": [
      "1\n",
      "2\n",
      "3\n",
      "4\n",
      "5\n",
      "6\n",
      "7\n",
      "8\n",
      "9\n"
     ]
    }
   ],
   "source": [
    "for i in range(1, 10):\n",
    "    print(i)"
   ]
  },
  {
   "cell_type": "code",
   "execution_count": 12,
   "metadata": {},
   "outputs": [
    {
     "name": "stdout",
     "output_type": "stream",
     "text": [
      "0\n",
      "1\n",
      "2\n",
      "3\n",
      "4\n",
      "5\n",
      "6\n",
      "7\n",
      "8\n",
      "9\n",
      "10\n",
      "11\n",
      "12\n",
      "13\n",
      "14\n"
     ]
    }
   ],
   "source": [
    "for i in range(15):\n",
    "    print(i)"
   ]
  },
  {
   "cell_type": "code",
   "execution_count": 17,
   "metadata": {},
   "outputs": [
    {
     "name": "stdout",
     "output_type": "stream",
     "text": [
      "0\n",
      "3\n",
      "6\n",
      "9\n",
      "12\n",
      "15\n",
      "18\n"
     ]
    }
   ],
   "source": [
    "for i in range(0,20,3):\n",
    "    print(i)"
   ]
  },
  {
   "cell_type": "code",
   "execution_count": 19,
   "metadata": {},
   "outputs": [
    {
     "name": "stdout",
     "output_type": "stream",
     "text": [
      "1\n",
      "2\n",
      "4\n",
      "8\n",
      "16\n",
      "32\n",
      "64\n",
      "128\n",
      "256\n",
      "512\n",
      "1024\n"
     ]
    }
   ],
   "source": [
    "for k in range(11):\n",
    "    print(2 ** k)"
   ]
  },
  {
   "cell_type": "markdown",
   "metadata": {},
   "source": [
    "Можно также проходить по строкам:"
   ]
  },
  {
   "cell_type": "code",
   "execution_count": 20,
   "metadata": {},
   "outputs": [
    {
     "name": "stdout",
     "output_type": "stream",
     "text": [
      "а\n",
      "б\n",
      "р\n",
      "а\n",
      "к\n",
      "а\n",
      "д\n",
      "а\n",
      "б\n",
      "р\n",
      "а\n"
     ]
    }
   ],
   "source": [
    "for i in \"абракадабра\":\n",
    "    print(i)"
   ]
  },
  {
   "cell_type": "markdown",
   "metadata": {},
   "source": [
    "1. Напишите свой цикл используя **for n in range()** для чисел от 1 до 100, если они не делятся на 3\n",
    "\n",
    "(да-да, вместо i может быть любая буква или слово, обычно все пишут i (сокр. от index))"
   ]
  },
  {
   "cell_type": "code",
   "execution_count": 21,
   "metadata": {},
   "outputs": [
    {
     "name": "stdout",
     "output_type": "stream",
     "text": [
      "1\n",
      "2\n",
      "4\n",
      "5\n",
      "7\n",
      "8\n",
      "10\n",
      "11\n",
      "13\n",
      "14\n",
      "16\n",
      "17\n",
      "19\n",
      "20\n",
      "22\n",
      "23\n",
      "25\n",
      "26\n",
      "28\n",
      "29\n",
      "31\n",
      "32\n",
      "34\n",
      "35\n",
      "37\n",
      "38\n",
      "40\n",
      "41\n",
      "43\n",
      "44\n",
      "46\n",
      "47\n",
      "49\n",
      "50\n",
      "52\n",
      "53\n",
      "55\n",
      "56\n",
      "58\n",
      "59\n",
      "61\n",
      "62\n",
      "64\n",
      "65\n",
      "67\n",
      "68\n",
      "70\n",
      "71\n",
      "73\n",
      "74\n",
      "76\n",
      "77\n",
      "79\n",
      "80\n",
      "82\n",
      "83\n",
      "85\n",
      "86\n",
      "88\n",
      "89\n",
      "91\n",
      "92\n",
      "94\n",
      "95\n",
      "97\n",
      "98\n"
     ]
    }
   ],
   "source": [
    "for n in range(1, 100):\n",
    "    if n % 3 != 0:\n",
    "        print(n)"
   ]
  },
  {
   "cell_type": "markdown",
   "metadata": {},
   "source": [
    "2. Напишите цикл который для строки \"1jhsfkj3shdgbf_45 fdf_08\\t\" выведет только содержащиеся в ней цифры"
   ]
  },
  {
   "cell_type": "code",
   "execution_count": 28,
   "metadata": {},
   "outputs": [
    {
     "name": "stdout",
     "output_type": "stream",
     "text": [
      "1\n",
      "3\n",
      "4\n",
      "5\n",
      "0\n",
      "8\n"
     ]
    }
   ],
   "source": [
    "string = \"1jhsfkj3shdgbf_45 fdf_08\\t\"\n",
    "\n",
    "for symbol in string:\n",
    "    if symbol.isdigit():\n",
    "        print(symbol)"
   ]
  },
  {
   "cell_type": "code",
   "execution_count": null,
   "metadata": {},
   "outputs": [],
   "source": []
  }
 ],
 "metadata": {
  "kernelspec": {
   "display_name": "Python 3 (ipykernel)",
   "language": "python",
   "name": "python3"
  },
  "language_info": {
   "codemirror_mode": {
    "name": "ipython",
    "version": 3
   },
   "file_extension": ".py",
   "mimetype": "text/x-python",
   "name": "python",
   "nbconvert_exporter": "python",
   "pygments_lexer": "ipython3",
   "version": "3.8.6"
  }
 },
 "nbformat": 4,
 "nbformat_minor": 2
}
