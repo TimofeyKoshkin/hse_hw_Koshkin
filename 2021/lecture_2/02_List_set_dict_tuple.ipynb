{
 "cells": [
  {
   "cell_type": "markdown",
   "metadata": {},
   "source": [
    "# 2.2 Контейнеры в Python"
   ]
  },
  {
   "cell_type": "markdown",
   "metadata": {},
   "source": [
    "Переменные - это хорошо. А теперь подумаем, а если у нас много переменных. Длина, ширина, высота, порядковый номер... Ок, зазовем их $x,y,z,i$. А вот такой факт: ВКонтакте зарегистрировано около 38 миллионов человек. Для каждого свою переменную? А ручки беленькие не сотрутся в красненькие? А как потом обращаться к ним?! Вот к примеру, задача, проверить, кто сейчас онлайн. Примерный исходный код:\n",
    "\n",
    "*Проверить, онлайн ли первый*\n",
    "\n",
    "*Проверить, онлайн ли второй*\n",
    "\n",
    "*...*\n",
    "\n",
    "*Проверить, онлайн ли 1945003-й*\n",
    "\n",
    "*...*\n",
    "\n",
    "В общем, просто переменными дело явно не обойдется... "
   ]
  },
  {
   "cell_type": "markdown",
   "metadata": {},
   "source": [
    "## Списки (lists)"
   ]
  },
  {
   "cell_type": "markdown",
   "metadata": {},
   "source": [
    "Контейнером для хранения множества данных в Python являются списки"
   ]
  },
  {
   "cell_type": "code",
   "execution_count": null,
   "metadata": {},
   "outputs": [],
   "source": [
    "words = \"Мама мыла раму\".split()"
   ]
  },
  {
   "cell_type": "code",
   "execution_count": null,
   "metadata": {},
   "outputs": [],
   "source": [
    "list(words)"
   ]
  },
  {
   "cell_type": "code",
   "execution_count": null,
   "metadata": {},
   "outputs": [],
   "source": [
    "f = [1, 2, 4, 6, \"hegbr\", True]"
   ]
  },
  {
   "cell_type": "code",
   "execution_count": null,
   "metadata": {},
   "outputs": [],
   "source": [
    "l = [\"first\", \"second\", \"middle\", \"last but one\", \"last\"]\n",
    "\n",
    "print(l)\n",
    "print(type(l))"
   ]
  },
  {
   "cell_type": "markdown",
   "metadata": {},
   "source": [
    "Отлично, и что нам это дает? Ну, в первую очередь обращение к переменным по индексу. Например:"
   ]
  },
  {
   "cell_type": "code",
   "execution_count": null,
   "metadata": {},
   "outputs": [],
   "source": [
    "list1 = [\"first\", \"second\", \"middle\", \"last but one\", \"last\"]\n",
    "\n",
    "print(len(list1)) \n",
    "print(list1[0], len(list1[0]))"
   ]
  },
  {
   "cell_type": "code",
   "execution_count": null,
   "metadata": {},
   "outputs": [],
   "source": [
    "0, 1, 2, 3, 4"
   ]
  },
  {
   "cell_type": "code",
   "execution_count": null,
   "metadata": {},
   "outputs": [],
   "source": [
    "for i in range(len(list1)):\n",
    "    print(list1[i])"
   ]
  },
  {
   "cell_type": "code",
   "execution_count": null,
   "metadata": {},
   "outputs": [],
   "source": [
    "for i in list1:\n",
    "    print(i)"
   ]
  },
  {
   "cell_type": "code",
   "execution_count": null,
   "metadata": {},
   "outputs": [],
   "source": [
    "list1"
   ]
  },
  {
   "cell_type": "markdown",
   "metadata": {},
   "source": [
    "Отлично. Теперь то же самое, но в цикле:"
   ]
  },
  {
   "cell_type": "code",
   "execution_count": null,
   "metadata": {},
   "outputs": [],
   "source": [
    "l = [\"first\", \"second\", \"middle\", \"last but one\", \"last\" ]\n",
    "i = 0\n",
    "while i < len(l):\n",
    "    print(l[i])\n",
    "    i += 1"
   ]
  },
  {
   "cell_type": "markdown",
   "metadata": {},
   "source": [
    "Более того, ЛЮБОЙ элемент списка можно использовать как обычную переменную."
   ]
  },
  {
   "cell_type": "code",
   "execution_count": 3,
   "metadata": {},
   "outputs": [
    {
     "name": "stdout",
     "output_type": "stream",
     "text": [
      "['first', 'second', 'middle', 'last but one', 'last']\n",
      "['That was a middle element', 'second', 'middle', 'last but one', 'last']\n"
     ]
    }
   ],
   "source": [
    "l = [\"first\", \"second\", \"middle\", \"last but one\", \"last\"]\n",
    "print(l)\n",
    "\n",
    "l[0] = \"That was a middle element\"\n",
    "print(l)"
   ]
  },
  {
   "cell_type": "markdown",
   "metadata": {},
   "source": [
    "Списки могут хранить переменные совершенно разных типов:"
   ]
  },
  {
   "cell_type": "code",
   "execution_count": 34,
   "metadata": {},
   "outputs": [
    {
     "name": "stdout",
     "output_type": "stream",
     "text": [
      "[1, 2, 3]\n",
      "[1.0, 2.0, 3.0]\n",
      "['MultiType', 2, [3, 4]]\n"
     ]
    }
   ],
   "source": [
    "l1 = [1, 2, 3]\n",
    "l2 = [1.0, 2.0, 3.0]\n",
    "l3 = [\"MultiType\", 2, [3, 4]]\n",
    "print(l1)\n",
    "print(l2)\n",
    "print(l3)"
   ]
  },
  {
   "cell_type": "markdown",
   "metadata": {},
   "source": [
    "Супер, теперь давайте подумаем над следующим кодом:"
   ]
  },
  {
   "cell_type": "code",
   "execution_count": 2,
   "metadata": {},
   "outputs": [
    {
     "data": {
      "text/plain": [
       "[0, 1, 2, 3, 4, 5, 6, 7, 8, 9]"
      ]
     },
     "execution_count": 2,
     "metadata": {},
     "output_type": "execute_result"
    }
   ],
   "source": [
    "list(range(10))"
   ]
  },
  {
   "cell_type": "code",
   "execution_count": 37,
   "metadata": {},
   "outputs": [
    {
     "name": "stdout",
     "output_type": "stream",
     "text": [
      "[0, 1, 2, 3, 4, 5, 6, 7, 8, 9] range(0, 10)\n"
     ]
    }
   ],
   "source": [
    "a = list(range(0, 10))\n",
    "print(a, range(0, 10))"
   ]
  },
  {
   "cell_type": "markdown",
   "metadata": {},
   "source": [
    "Именно, range генерирует последовательность объектов. Следующий из этого вывод: синтаксис цикла for так же подойдет и для созданного нами списка. (но range и list все-таки разные вещи)"
   ]
  },
  {
   "cell_type": "code",
   "execution_count": null,
   "metadata": {},
   "outputs": [],
   "source": [
    "l = [\"first\", \"second\", \"middle\", \"last but one\", \"last\", \"the last\" ]\n",
    "for i in range(6):\n",
    "    print(l[i])"
   ]
  },
  {
   "cell_type": "code",
   "execution_count": null,
   "metadata": {},
   "outputs": [],
   "source": [
    "for i in l:\n",
    "    print(i)"
   ]
  },
  {
   "cell_type": "markdown",
   "metadata": {},
   "source": [
    "**Задание: подумать, что здесь происходит, и почему?**"
   ]
  },
  {
   "cell_type": "code",
   "execution_count": 60,
   "metadata": {},
   "outputs": [
    {
     "name": "stdout",
     "output_type": "stream",
     "text": [
      "['first', 'second', 'middle', 'last but one', 'last']\n"
     ]
    }
   ],
   "source": [
    "l = [\"first\", \"second\", \"middle\", \"last but one\", \"last\" ]\n",
    "for i in l:\n",
    "    i = i + \" Batman!!!\"\n",
    "print(l)"
   ]
  },
  {
   "cell_type": "code",
   "execution_count": 61,
   "metadata": {},
   "outputs": [
    {
     "name": "stdout",
     "output_type": "stream",
     "text": [
      "['first Batman!!!', 'second Batman!!!', 'middle Batman!!!', 'last but one Batman!!!', 'last Batman!!!']\n"
     ]
    }
   ],
   "source": [
    "l = [\"first\", \"second\", \"middle\", \"last but one\", \"last\" ]\n",
    "for i in range(5):\n",
    "    l[i] = l[i] + \" Batman!!!\"\n",
    "print(l)"
   ]
  },
  {
   "cell_type": "markdown",
   "metadata": {},
   "source": [
    "### Работа со списками\n",
    "\n",
    "Итак, далее предположим, что у нас есть список, с которым мы работаем. Например, список l. Очень хорошо, когда мы знаем об этос списке все, но что делать если это не так?(А зачастую, так и есть).\n",
    "\n",
    "Например, как нам вывести последний элемент, если мы не знаем, сколько элементов в списке? Вот так:\n",
    "\n",
    "*(две строчки вывода одинаковые. Это чтобы вы не забывали разные возможности форматного вывода)*"
   ]
  },
  {
   "cell_type": "code",
   "execution_count": 14,
   "metadata": {},
   "outputs": [
    {
     "name": "stdout",
     "output_type": "stream",
     "text": [
      "Первый с конца: last\n",
      "Второй с конца: last but one\n",
      "d\n"
     ]
    }
   ],
   "source": [
    "l = [\"first\", \"second\", \"middle\", \"last but one\", \"last\" ]\n",
    "\n",
    "print(\"Первый с конца:\", l[-1])\n",
    "print(f\"Второй с конца: {l[-2]}\")\n",
    "\n",
    "x = \"dbndkjb\"\n",
    "print(x[2])"
   ]
  },
  {
   "cell_type": "markdown",
   "metadata": {},
   "source": [
    "Отлично. Усложняем задачу: нам надо вывести все элементы от второго, до последнего, затем от второго до предпоследнего, затем первые 3 элемента, затем от первого до третьего. \n",
    "\n",
    "Тут нас спасет двоеточие:"
   ]
  },
  {
   "cell_type": "code",
   "execution_count": 15,
   "metadata": {},
   "outputs": [
    {
     "name": "stdout",
     "output_type": "stream",
     "text": [
      "['first', 'second', 'middle']\n"
     ]
    }
   ],
   "source": [
    "l = [\"first\", \"second\", \"middle\", \"last but one\", \"last\" ]\n",
    "\n",
    "print(l[0:3])"
   ]
  },
  {
   "cell_type": "code",
   "execution_count": 16,
   "metadata": {},
   "outputs": [
    {
     "name": "stdout",
     "output_type": "stream",
     "text": [
      "['middle', 'last but one', 'last']\n"
     ]
    }
   ],
   "source": [
    "print(l[2:])"
   ]
  },
  {
   "cell_type": "code",
   "execution_count": 17,
   "metadata": {},
   "outputs": [
    {
     "name": "stdout",
     "output_type": "stream",
     "text": [
      "['middle', 'last but one']\n"
     ]
    }
   ],
   "source": [
    "print(l[2:-1])"
   ]
  },
  {
   "cell_type": "code",
   "execution_count": 18,
   "metadata": {},
   "outputs": [
    {
     "name": "stdout",
     "output_type": "stream",
     "text": [
      "['second', 'middle', 'last but one']\n"
     ]
    }
   ],
   "source": [
    "l = [\"first\", \"second\", \"middle\", \"last but one\", \"last\" ]\n",
    "print(l[1:4]) # Почему тут 1:4, если нам от первого до третьего???!!! "
   ]
  },
  {
   "cell_type": "markdown",
   "metadata": {},
   "source": [
    "Супер. Ну, теперь мы дошли до ключевого вопроса: вывести, сколько элементов в списке:"
   ]
  },
  {
   "cell_type": "code",
   "execution_count": null,
   "metadata": {},
   "outputs": [],
   "source": [
    "l = [\"first\", \"second\", \"middle\", \"last but one\", \"last\" ]\n",
    "len(l)"
   ]
  },
  {
   "cell_type": "code",
   "execution_count": 21,
   "metadata": {},
   "outputs": [
    {
     "name": "stdout",
     "output_type": "stream",
     "text": [
      "first\n",
      "second\n",
      "middle\n",
      "last but one\n",
      "last\n"
     ]
    }
   ],
   "source": [
    "l = [\"first\", \"second\", \"middle\", \"last but one\", \"last\" ]\n",
    "for i in range(len(l)):\n",
    "    print(l[i])"
   ]
  },
  {
   "cell_type": "code",
   "execution_count": 22,
   "metadata": {},
   "outputs": [
    {
     "name": "stdout",
     "output_type": "stream",
     "text": [
      "first\n",
      "second\n",
      "middle\n",
      "last but one\n",
      "last\n"
     ]
    }
   ],
   "source": [
    "l = [\"first\", \"second\", \"middle\", \"last but one\", \"last\" ]\n",
    "for i in l:\n",
    "    print(i)"
   ]
  },
  {
   "cell_type": "markdown",
   "metadata": {},
   "source": [
    "### Работа с несколькими списками."
   ]
  },
  {
   "cell_type": "markdown",
   "metadata": {},
   "source": [
    "Ну, теперь предположим, что мы хотим пополнить наш список новым элементом. Приятной особенностью окажется возможность складывать списки."
   ]
  },
  {
   "cell_type": "code",
   "execution_count": 25,
   "metadata": {},
   "outputs": [
    {
     "name": "stdout",
     "output_type": "stream",
     "text": [
      "[1, 2, 3, 4, 5, 6]\n",
      "[4, 5, 6, 1, 2, 3]\n"
     ]
    }
   ],
   "source": [
    "f = [1,2,3]\n",
    "s = [4,5,6]\n",
    "\n",
    "print(f + s)\n",
    "print(s + f)"
   ]
  },
  {
   "cell_type": "markdown",
   "metadata": {},
   "source": [
    "\"Продвинутый\" уровень создания списка (list comprehension): "
   ]
  },
  {
   "cell_type": "code",
   "execution_count": 43,
   "metadata": {},
   "outputs": [
    {
     "data": {
      "text/plain": [
       "['vk.com', 'facebook.com']"
      ]
     },
     "execution_count": 43,
     "metadata": {},
     "output_type": "execute_result"
    }
   ],
   "source": [
    "www = [\"vk.com\", \"facebook.com\"]\n",
    "a = [i for i in www]\n",
    "a"
   ]
  },
  {
   "cell_type": "code",
   "execution_count": 44,
   "metadata": {},
   "outputs": [
    {
     "name": "stdout",
     "output_type": "stream",
     "text": [
      "[]\n",
      "['https://vk.com', 'https://facebook.com']\n"
     ]
    }
   ],
   "source": [
    "b = []\n",
    "print(b)\n",
    "for i in www:\n",
    "    b.append(\"https://\" + i)\n",
    "print(b)"
   ]
  },
  {
   "cell_type": "code",
   "execution_count": 48,
   "metadata": {},
   "outputs": [
    {
     "name": "stdout",
     "output_type": "stream",
     "text": [
      "['vk.com', 'facebook.com', 'https://vk.com', 'https://facebook.com', 'https://vk.com', 'https://facebook.com', 'https://vk.com', 'https://facebook.com', 'https://vk.com', 'https://facebook.com']\n"
     ]
    }
   ],
   "source": [
    "a.extend(b)\n",
    "print(a)"
   ]
  },
  {
   "cell_type": "markdown",
   "metadata": {},
   "source": [
    "Cюда же можно воткнуть и условия. Например, список квадратов четных чисел до 20:"
   ]
  },
  {
   "cell_type": "code",
   "execution_count": null,
   "metadata": {},
   "outputs": [],
   "source": [
    "[i**2 for i in range(21) if i%2 == 0]"
   ]
  },
  {
   "cell_type": "code",
   "execution_count": null,
   "metadata": {},
   "outputs": [],
   "source": [
    "for i in range(21):\n",
    "    if i % 2 == 0:\n",
    "        print(i ** 2)"
   ]
  },
  {
   "cell_type": "markdown",
   "metadata": {},
   "source": [
    "**Внимание, посмотрите внимательно, что произошло!!**"
   ]
  },
  {
   "cell_type": "code",
   "execution_count": null,
   "metadata": {},
   "outputs": [],
   "source": [
    "f = [1,2,3]\n",
    "s = f\n",
    "print(f, s)"
   ]
  },
  {
   "cell_type": "code",
   "execution_count": null,
   "metadata": {},
   "outputs": [],
   "source": [
    "s[1] = 100\n",
    "print(f, s)"
   ]
  },
  {
   "cell_type": "markdown",
   "metadata": {},
   "source": [
    "Ух ты!!! Мы НЕ КОПИРУЕМ списки, а создаем синоним - другое имя для того же объекта в памяти.\n",
    "\n",
    "Проблема разрешается созданием нового списка с тем же содержанием."
   ]
  },
  {
   "cell_type": "code",
   "execution_count": null,
   "metadata": {},
   "outputs": [],
   "source": [
    "f = [1,2,3]\n",
    "s = [i for i in f]\n",
    "print(f, s)"
   ]
  },
  {
   "cell_type": "code",
   "execution_count": null,
   "metadata": {},
   "outputs": [],
   "source": [
    "s[1] = 100\n",
    "print(f, s)"
   ]
  },
  {
   "cell_type": "code",
   "execution_count": 59,
   "metadata": {},
   "outputs": [
    {
     "data": {
      "text/plain": [
       "True"
      ]
     },
     "execution_count": 59,
     "metadata": {},
     "output_type": "execute_result"
    }
   ],
   "source": [
    "s = \"caac\"\n",
    "x = s[::-1]\n",
    "s == x"
   ]
  },
  {
   "cell_type": "markdown",
   "metadata": {},
   "source": [
    "### Встроенные функции списков"
   ]
  },
  {
   "cell_type": "markdown",
   "metadata": {},
   "source": [
    "**есть еще и встроенные функции??**\n",
    "\n",
    "О, да! Еще как есть! И вот их список:\n",
    "\n",
    "list.append(x)\n",
    "\n",
    "\n",
    "list.extend(L)\n",
    "\n",
    "\n",
    "list.insert(i, x)\n",
    "\n",
    "\n",
    "list.remove(x)\n",
    "\n",
    "\n",
    "list.pop([i])\n",
    "\n",
    "\n",
    "list.index(x)\n",
    "\n",
    "\n",
    "list.count(x)\n",
    "\n",
    "\n",
    "list.sort()\n",
    "\n",
    "\n",
    "list.reverse()\n",
    "\n",
    "А подробную документацию по каждой из них можно найти [здесь](http://docs.python.org/2/tutorial/datastructures.html)"
   ]
  },
  {
   "cell_type": "code",
   "execution_count": 60,
   "metadata": {},
   "outputs": [
    {
     "data": {
      "text/plain": [
       "[6, 6, 5, 5, 3, 1]"
      ]
     },
     "execution_count": 60,
     "metadata": {},
     "output_type": "execute_result"
    }
   ],
   "source": [
    "m = [1, 3, 5, 6, 5, 6]\n",
    "m.sort()\n",
    "m.reverse()\n",
    "m"
   ]
  },
  {
   "cell_type": "code",
   "execution_count": 65,
   "metadata": {},
   "outputs": [
    {
     "name": "stdout",
     "output_type": "stream",
     "text": [
      "[3, 5, 46, 1323]\n",
      "[1323, 46, 5, 3]\n"
     ]
    }
   ],
   "source": [
    "l = [1323, 3, 5, 46]\n",
    "l.sort()\n",
    "\n",
    "print(l)\n",
    "\n",
    "l.reverse()\n",
    "\n",
    "print(l)"
   ]
  },
  {
   "cell_type": "markdown",
   "metadata": {},
   "source": [
    "**Задание: найти в документации и объяснить, что происходит в исходном коде ниже (в чем разница двух удалений)**"
   ]
  },
  {
   "cell_type": "code",
   "execution_count": 63,
   "metadata": {},
   "outputs": [
    {
     "name": "stdout",
     "output_type": "stream",
     "text": [
      "[1, 2, 2, 1]\n",
      "[1, 1, 3, 1]\n",
      "3\n"
     ]
    }
   ],
   "source": [
    "l = [1,2,1,2,1]\n",
    "del l[2]\n",
    "print(l)\n",
    "k = [1,3,1,3,1]\n",
    "k.remove(3)\n",
    "print(k)\n",
    "print(k.count(1))"
   ]
  },
  {
   "cell_type": "markdown",
   "metadata": {},
   "source": [
    "## Кортежи (tuples)"
   ]
  },
  {
   "cell_type": "markdown",
   "metadata": {},
   "source": [
    "Тупл в русской терминологии правильно называть кортежем. Но программисты на питоне, как правило, об этом не знают. Так что дружно называем их туплами.\n",
    "\n",
    "Суть тупла - последовательность данных фиксированного размера. Синтаксис - как списки, но только в круглых скобках"
   ]
  },
  {
   "cell_type": "code",
   "execution_count": 65,
   "metadata": {},
   "outputs": [
    {
     "name": "stdout",
     "output_type": "stream",
     "text": [
      "(1, 2, 3)\n"
     ]
    }
   ],
   "source": [
    "t = (1,2,3)\n",
    "print(t)"
   ]
  },
  {
   "cell_type": "markdown",
   "metadata": {},
   "source": [
    "С туплами допустимо использование индексов как со списками. Но только в режиме \"чтение\", а не записи."
   ]
  },
  {
   "cell_type": "code",
   "execution_count": 66,
   "metadata": {},
   "outputs": [
    {
     "name": "stdout",
     "output_type": "stream",
     "text": [
      "2 3\n"
     ]
    }
   ],
   "source": [
    "print(t[1], t[-1])"
   ]
  },
  {
   "cell_type": "code",
   "execution_count": 74,
   "metadata": {},
   "outputs": [
    {
     "ename": "TypeError",
     "evalue": "'tuple' object does not support item assignment",
     "output_type": "error",
     "traceback": [
      "\u001b[1;31m---------------------------------------------------------------------------\u001b[0m",
      "\u001b[1;31mTypeError\u001b[0m                                 Traceback (most recent call last)",
      "\u001b[1;32m~\\AppData\\Local\\Temp/ipykernel_13556/1970766339.py\u001b[0m in \u001b[0;36m<module>\u001b[1;34m\u001b[0m\n\u001b[1;32m----> 1\u001b[1;33m \u001b[0mt\u001b[0m\u001b[1;33m[\u001b[0m\u001b[1;36m1\u001b[0m\u001b[1;33m]\u001b[0m \u001b[1;33m=\u001b[0m \u001b[1;36m2\u001b[0m  \u001b[1;31m# Этот код НЕ сработает\u001b[0m\u001b[1;33m\u001b[0m\u001b[1;33m\u001b[0m\u001b[0m\n\u001b[0m",
      "\u001b[1;31mTypeError\u001b[0m: 'tuple' object does not support item assignment"
     ]
    }
   ],
   "source": [
    "t[1] = 2  # Этот код НЕ сработает"
   ]
  },
  {
   "cell_type": "markdown",
   "metadata": {},
   "source": [
    "Туплы нельзя увеличивать в размере (append), изменять. Вообще, с туплами доступно по сути только две операции: count и index\n"
   ]
  },
  {
   "cell_type": "code",
   "execution_count": 73,
   "metadata": {},
   "outputs": [],
   "source": [
    "t = (1, 1, 1, 1, 2, \"cat\")"
   ]
  },
  {
   "cell_type": "code",
   "execution_count": 74,
   "metadata": {},
   "outputs": [
    {
     "name": "stdout",
     "output_type": "stream",
     "text": [
      "4\n",
      "5\n",
      "cat\n"
     ]
    }
   ],
   "source": [
    "print(t.count(1)) # количество элементов\n",
    "print(t.index(\"cat\")) \n",
    "print(t[5])# индекс элемента '3'"
   ]
  },
  {
   "cell_type": "markdown",
   "metadata": {},
   "source": [
    "## Множества (set)"
   ]
  },
  {
   "cell_type": "markdown",
   "metadata": {},
   "source": [
    "Принципиальное отличие множества от массива --- отсутствие повторяющихся элементов. Иногда это нужно с точки зрения формулировки, иногда с точки зрения результата. Синтаксис --- встроенная функция set"
   ]
  },
  {
   "cell_type": "code",
   "execution_count": 75,
   "metadata": {},
   "outputs": [
    {
     "name": "stdout",
     "output_type": "stream",
     "text": [
      "[2, 3, 4, 4]\n",
      "{2, 3, 4}\n"
     ]
    }
   ],
   "source": [
    "l = [2, 3, 4, 4] \n",
    "print(l)\n",
    "print(set(l))"
   ]
  },
  {
   "cell_type": "code",
   "execution_count": 76,
   "metadata": {},
   "outputs": [
    {
     "name": "stdout",
     "output_type": "stream",
     "text": [
      "[1, 2, 3, 2, 3, 2, 3, 1, 4, 1, 2, 7, 1]\n",
      "{1, 2, 3, 4, 7}\n"
     ]
    }
   ],
   "source": [
    "a = [1,2,3,2,3,2,3,1,4,1,2,7,1]\n",
    "\n",
    "b = set(a)\n",
    "\n",
    "print(a)\n",
    "print(b)"
   ]
  },
  {
   "cell_type": "code",
   "execution_count": 77,
   "metadata": {},
   "outputs": [
    {
     "data": {
      "text/plain": [
       "{'a', 'b', 'e', 'f', 'g', 'h', 'j', 's', 'w'}"
      ]
     },
     "execution_count": 77,
     "metadata": {},
     "output_type": "execute_result"
    }
   ],
   "source": [
    "s = \"sbfsjhgfswfasfe\"\n",
    "set(s)"
   ]
  },
  {
   "cell_type": "markdown",
   "metadata": {},
   "source": [
    "set - тоже iterable объект, т.е. возможно следующее:"
   ]
  },
  {
   "cell_type": "code",
   "execution_count": 78,
   "metadata": {},
   "outputs": [
    {
     "name": "stdout",
     "output_type": "stream",
     "text": [
      "s\n",
      "b\n",
      "f\n",
      "s\n",
      "j\n",
      "h\n",
      "g\n",
      "f\n",
      "s\n",
      "w\n",
      "f\n",
      "a\n",
      "s\n",
      "f\n",
      "e\n"
     ]
    }
   ],
   "source": [
    "for i in s:\n",
    "    print(i)"
   ]
  },
  {
   "cell_type": "markdown",
   "metadata": {},
   "source": [
    "Например, задача: \n",
    "\n",
    "1. посчитать, сколько различных букв в слове 'abracadabra'"
   ]
  },
  {
   "cell_type": "code",
   "execution_count": 80,
   "metadata": {},
   "outputs": [
    {
     "name": "stdout",
     "output_type": "stream",
     "text": [
      "{'a', 'r', 'd', 'b', 'c'} 5\n"
     ]
    }
   ],
   "source": [
    "# our code\n",
    "\n",
    "abra = 'abracadabra'\n",
    "cadabra = set(abra)\n",
    "print(cadabra, len(cadabra))"
   ]
  },
  {
   "cell_type": "markdown",
   "metadata": {},
   "source": [
    "2. какие различные буквы в слове 'abracadabra'"
   ]
  },
  {
   "cell_type": "code",
   "execution_count": 86,
   "metadata": {},
   "outputs": [
    {
     "name": "stdout",
     "output_type": "stream",
     "text": [
      "r\n",
      "d\n",
      "c\n",
      "b\n",
      "a\n"
     ]
    }
   ],
   "source": [
    "# our code\n",
    "\n",
    "for i in reversed(sorted(set(abra))):\n",
    "    print(i)"
   ]
  },
  {
   "cell_type": "markdown",
   "metadata": {},
   "source": [
    "С множеством доступны следующие операции:\n",
    "\n",
    "проверка включения (много эффективней, чем по списку)\n",
    "\n",
    "объединение $A \\cup B$\n",
    "\n",
    "пересечение $A \\cap B$\n",
    "\n",
    "вычитание множеств $A - B$\n",
    "\n",
    "и т.п."
   ]
  },
  {
   "cell_type": "code",
   "execution_count": 100,
   "metadata": {},
   "outputs": [],
   "source": [
    "a = set('abracadabra')\n",
    "b = set('turumburum')"
   ]
  },
  {
   "cell_type": "code",
   "execution_count": 101,
   "metadata": {},
   "outputs": [
    {
     "data": {
      "text/plain": [
       "({'a', 'b', 'c', 'd', 'r'}, {'b', 'm', 'r', 't', 'u'})"
      ]
     },
     "execution_count": 101,
     "metadata": {},
     "output_type": "execute_result"
    }
   ],
   "source": [
    "a, b"
   ]
  },
  {
   "cell_type": "code",
   "execution_count": 102,
   "metadata": {},
   "outputs": [
    {
     "data": {
      "text/plain": [
       "{'a', 'b', 'c', 'd', 'm', 'r', 't', 'u'}"
      ]
     },
     "execution_count": 102,
     "metadata": {},
     "output_type": "execute_result"
    }
   ],
   "source": [
    "a.union(b)"
   ]
  },
  {
   "cell_type": "code",
   "execution_count": 103,
   "metadata": {},
   "outputs": [
    {
     "data": {
      "text/plain": [
       "{'b', 'r'}"
      ]
     },
     "execution_count": 103,
     "metadata": {},
     "output_type": "execute_result"
    }
   ],
   "source": [
    "a.intersection(b)"
   ]
  },
  {
   "cell_type": "code",
   "execution_count": 104,
   "metadata": {},
   "outputs": [
    {
     "data": {
      "text/plain": [
       "{'a', 'c', 'd'}"
      ]
     },
     "execution_count": 104,
     "metadata": {},
     "output_type": "execute_result"
    }
   ],
   "source": [
    "a - b"
   ]
  },
  {
   "cell_type": "code",
   "execution_count": 105,
   "metadata": {},
   "outputs": [
    {
     "data": {
      "text/plain": [
       "{'m', 't', 'u'}"
      ]
     },
     "execution_count": 105,
     "metadata": {},
     "output_type": "execute_result"
    }
   ],
   "source": [
    "b - a"
   ]
  },
  {
   "cell_type": "markdown",
   "metadata": {},
   "source": [
    "## Словари (dict)"
   ]
  },
  {
   "cell_type": "markdown",
   "metadata": {},
   "source": [
    "Иногда не очень удобно обращаться к списку по целочисленному индексу. Иногда удобно обращаться, скажем, по строке. Или по какому-нибудь еще объекту (хешируему. Про хеши когда-нибудь потом. Или нет.)\n",
    "\n",
    "Тогда нас спасают словари. Синтаксис -- фигурные скобки, внутри через запятую ключ: значение."
   ]
  },
  {
   "cell_type": "code",
   "execution_count": 108,
   "metadata": {},
   "outputs": [
    {
     "name": "stdout",
     "output_type": "stream",
     "text": [
      "['мыло', 'шампунь']\n"
     ]
    }
   ],
   "source": [
    "bad_list = [\"my text: abra cadabra\", 42, [\"мыло\", \"шампунь\"]]\n",
    "print(bad_list[2])"
   ]
  },
  {
   "cell_type": "code",
   "execution_count": 109,
   "metadata": {},
   "outputs": [],
   "source": [
    "my_dict = {\n",
    "        \"my_text\": \"my text: abra cadabra\", \n",
    "        \"my_number\": 42, \n",
    "        \"my_list\": [\"мыло\", \"шампунь\"]\n",
    "          }"
   ]
  },
  {
   "cell_type": "code",
   "execution_count": 112,
   "metadata": {},
   "outputs": [
    {
     "data": {
      "text/plain": [
       "['мыло', 'шампунь']"
      ]
     },
     "execution_count": 112,
     "metadata": {},
     "output_type": "execute_result"
    }
   ],
   "source": [
    "my_dict['my_list']"
   ]
  },
  {
   "cell_type": "code",
   "execution_count": 113,
   "metadata": {},
   "outputs": [
    {
     "data": {
      "text/plain": [
       "'zero'"
      ]
     },
     "execution_count": 113,
     "metadata": {},
     "output_type": "execute_result"
    }
   ],
   "source": [
    "l = [\"zero\", \"abra\", \"cadabra\"]\n",
    "\n",
    "l[0]"
   ]
  },
  {
   "cell_type": "code",
   "execution_count": 126,
   "metadata": {},
   "outputs": [
    {
     "name": "stdout",
     "output_type": "stream",
     "text": [
      "zero\n"
     ]
    }
   ],
   "source": [
    "d = {\"one\": \"one\", 1: \"zero\", 2: \"cadabra\"}\n",
    "print(d[1])"
   ]
  },
  {
   "cell_type": "markdown",
   "metadata": {},
   "source": [
    "Обращение к элементу, ключа которого нет в словаре, недопустимо. "
   ]
  },
  {
   "cell_type": "code",
   "execution_count": 127,
   "metadata": {},
   "outputs": [
    {
     "ename": "KeyError",
     "evalue": "0",
     "output_type": "error",
     "traceback": [
      "\u001b[1;31m---------------------------------------------------------------------------\u001b[0m",
      "\u001b[1;31mKeyError\u001b[0m                                  Traceback (most recent call last)",
      "\u001b[1;32m~\\AppData\\Local\\Temp/ipykernel_12092/423556989.py\u001b[0m in \u001b[0;36m<module>\u001b[1;34m\u001b[0m\n\u001b[1;32m----> 1\u001b[1;33m \u001b[0mprint\u001b[0m\u001b[1;33m(\u001b[0m\u001b[0md\u001b[0m\u001b[1;33m[\u001b[0m\u001b[1;36m0\u001b[0m\u001b[1;33m]\u001b[0m\u001b[1;33m)\u001b[0m\u001b[1;33m\u001b[0m\u001b[1;33m\u001b[0m\u001b[0m\n\u001b[0m",
      "\u001b[1;31mKeyError\u001b[0m: 0"
     ]
    }
   ],
   "source": [
    "print(d[0])"
   ]
  },
  {
   "cell_type": "code",
   "execution_count": null,
   "metadata": {},
   "outputs": [],
   "source": [
    "d = {\"one\": 1, \"two\": 2, \"three\": 3}\n",
    "print(d[\"one\"])\n",
    "print(d[\"two\"])"
   ]
  },
  {
   "cell_type": "markdown",
   "metadata": {},
   "source": [
    "Обращение к элементу, ключа которого нет в словаре, недопустимо. "
   ]
  },
  {
   "cell_type": "code",
   "execution_count": 128,
   "metadata": {},
   "outputs": [
    {
     "ename": "KeyError",
     "evalue": "'four'",
     "output_type": "error",
     "traceback": [
      "\u001b[1;31m---------------------------------------------------------------------------\u001b[0m",
      "\u001b[1;31mKeyError\u001b[0m                                  Traceback (most recent call last)",
      "\u001b[1;32m~\\AppData\\Local\\Temp/ipykernel_12092/710839238.py\u001b[0m in \u001b[0;36m<module>\u001b[1;34m\u001b[0m\n\u001b[1;32m----> 1\u001b[1;33m \u001b[0mprint\u001b[0m\u001b[1;33m(\u001b[0m\u001b[0md\u001b[0m\u001b[1;33m[\u001b[0m\u001b[1;34m\"four\"\u001b[0m\u001b[1;33m]\u001b[0m\u001b[1;33m)\u001b[0m\u001b[1;33m\u001b[0m\u001b[1;33m\u001b[0m\u001b[0m\n\u001b[0m",
      "\u001b[1;31mKeyError\u001b[0m: 'four'"
     ]
    }
   ],
   "source": [
    "print(d[\"four\"])"
   ]
  },
  {
   "cell_type": "markdown",
   "metadata": {},
   "source": [
    "Зато можно для несуществующего ключа записать значение!!"
   ]
  },
  {
   "cell_type": "code",
   "execution_count": 139,
   "metadata": {},
   "outputs": [
    {
     "name": "stdout",
     "output_type": "stream",
     "text": [
      "{'zero': 125, 'one': 14, 'two': 2, 'four': 4, 'five': 5}\n"
     ]
    }
   ],
   "source": [
    "d = {\"zero\": 125, \"one\": 14, \"two\": 2}\n",
    "\n",
    "d[\"four\"] = 4\n",
    "d['five'] = 5\n",
    "print(d)"
   ]
  },
  {
   "cell_type": "code",
   "execution_count": 141,
   "metadata": {},
   "outputs": [
    {
     "name": "stdout",
     "output_type": "stream",
     "text": [
      "{'zero': 125, 'one': 14, 'two': 2, 'four': 4, 'five': 6}\n"
     ]
    }
   ],
   "source": [
    "d['five'] = 6\n",
    "print(d)"
   ]
  },
  {
   "cell_type": "markdown",
   "metadata": {},
   "source": [
    "NB! пустой set VS пустой dict:"
   ]
  },
  {
   "cell_type": "code",
   "execution_count": 142,
   "metadata": {},
   "outputs": [],
   "source": [
    "a = set()\n",
    "b = {}"
   ]
  },
  {
   "cell_type": "code",
   "execution_count": 143,
   "metadata": {},
   "outputs": [
    {
     "name": "stdout",
     "output_type": "stream",
     "text": [
      "set() {}\n"
     ]
    }
   ],
   "source": [
    "print(a, b)"
   ]
  },
  {
   "cell_type": "markdown",
   "metadata": {},
   "source": [
    "Ну и как уже повелось с контейнерами, этот тоже iterable, но итерации идут по ключам:"
   ]
  },
  {
   "cell_type": "code",
   "execution_count": 144,
   "metadata": {},
   "outputs": [
    {
     "name": "stdout",
     "output_type": "stream",
     "text": [
      "zero\n",
      "one\n",
      "two\n",
      "four\n",
      "five\n"
     ]
    }
   ],
   "source": [
    "for i in d:\n",
    "    print(i)"
   ]
  },
  {
   "cell_type": "code",
   "execution_count": 145,
   "metadata": {},
   "outputs": [
    {
     "name": "stdout",
     "output_type": "stream",
     "text": [
      "zero\n",
      "one\n",
      "two\n",
      "four\n",
      "five\n"
     ]
    }
   ],
   "source": [
    "for i in d.keys():\n",
    "    print(i)"
   ]
  },
  {
   "cell_type": "markdown",
   "metadata": {},
   "source": [
    "Можно идти по значениям:"
   ]
  },
  {
   "cell_type": "code",
   "execution_count": 147,
   "metadata": {},
   "outputs": [
    {
     "name": "stdout",
     "output_type": "stream",
     "text": [
      "125\n",
      "14\n",
      "2\n",
      "4\n",
      "6\n"
     ]
    }
   ],
   "source": [
    "for i in d.values():\n",
    "    print(i)"
   ]
  },
  {
   "cell_type": "markdown",
   "metadata": {},
   "source": [
    "Можно по тому и другому:"
   ]
  },
  {
   "cell_type": "code",
   "execution_count": 151,
   "metadata": {},
   "outputs": [
    {
     "name": "stdout",
     "output_type": "stream",
     "text": [
      "k:  zero\n",
      "v: 125\n",
      "k:  one\n",
      "v: 14\n",
      "k:  two\n",
      "v: 2\n",
      "k:  four\n",
      "v: 4\n",
      "k:  five\n",
      "v: 6\n"
     ]
    }
   ],
   "source": [
    "for k, v in d.items():\n",
    "    print(\"k: \",  k)\n",
    "    print(\"v:\", v)"
   ]
  },
  {
   "cell_type": "code",
   "execution_count": 152,
   "metadata": {},
   "outputs": [
    {
     "name": "stdout",
     "output_type": "stream",
     "text": [
      "Key: zero, value: 125\n",
      "Key: one, value: 14\n",
      "Key: two, value: 2\n",
      "Key: four, value: 4\n",
      "Key: five, value: 6\n"
     ]
    }
   ],
   "source": [
    "for k, v in d.items():\n",
    "    print(f\"Key: {k}, value: {v}\")"
   ]
  },
  {
   "cell_type": "markdown",
   "metadata": {},
   "source": [
    "Самое полезное применение словарей -- подсчет повторений символов/слов:"
   ]
  },
  {
   "cell_type": "markdown",
   "metadata": {},
   "source": [
    "Давайте посчитаем, сколько раз какой символ встречается в тексте песни \"Get Jinxed\"."
   ]
  },
  {
   "cell_type": "code",
   "execution_count": 159,
   "metadata": {},
   "outputs": [],
   "source": [
    "text = \"Мама мыла раму. Мама любит кошку. Кошку любит еще и Питон. Я не люблю Питон.\""
   ]
  },
  {
   "cell_type": "code",
   "execution_count": 160,
   "metadata": {},
   "outputs": [],
   "source": [
    "words = text.lower().split()"
   ]
  },
  {
   "cell_type": "code",
   "execution_count": 166,
   "metadata": {},
   "outputs": [],
   "source": [
    "words = [word.replace('.', \"\") for word in words]"
   ]
  },
  {
   "cell_type": "code",
   "execution_count": 171,
   "metadata": {},
   "outputs": [
    {
     "data": {
      "text/plain": [
       "['мама',\n",
       " 'мыла',\n",
       " 'раму',\n",
       " 'мама',\n",
       " 'любит',\n",
       " 'кошку',\n",
       " 'кошку',\n",
       " 'любит',\n",
       " 'еще',\n",
       " 'и',\n",
       " 'питон',\n",
       " 'я',\n",
       " 'не',\n",
       " 'люблю',\n",
       " 'питон']"
      ]
     },
     "execution_count": 171,
     "metadata": {},
     "output_type": "execute_result"
    }
   ],
   "source": [
    "words"
   ]
  },
  {
   "cell_type": "code",
   "execution_count": 174,
   "metadata": {},
   "outputs": [
    {
     "name": "stdout",
     "output_type": "stream",
     "text": [
      "{'мама': 2, 'мыла': 1, 'раму': 1, 'любит': 2, 'кошку': 2, 'еще': 1, 'и': 1, 'питон': 2, 'я': 1, 'не': 1, 'люблю': 1}\n"
     ]
    }
   ],
   "source": [
    "g = {}\n",
    "\n",
    "for word in words:\n",
    "    if word in g:\n",
    "        g[word] = g[word] + 1\n",
    "    else:\n",
    "        g[word] = 1\n",
    "\n",
    "print(g)"
   ]
  },
  {
   "cell_type": "code",
   "execution_count": 175,
   "metadata": {},
   "outputs": [],
   "source": [
    "from collections import Counter"
   ]
  },
  {
   "cell_type": "code",
   "execution_count": 182,
   "metadata": {},
   "outputs": [
    {
     "data": {
      "text/plain": [
       "[('мама', 2), ('любит', 2)]"
      ]
     },
     "execution_count": 182,
     "metadata": {},
     "output_type": "execute_result"
    }
   ],
   "source": [
    "Counter(words).most_common(2)"
   ]
  },
  {
   "cell_type": "code",
   "execution_count": 179,
   "metadata": {},
   "outputs": [
    {
     "data": {
      "text/plain": [
       "2"
      ]
     },
     "execution_count": 179,
     "metadata": {},
     "output_type": "execute_result"
    }
   ],
   "source": [
    "\"мама мыла раму. мама кошка\".count('мама')\n"
   ]
  },
  {
   "cell_type": "code",
   "execution_count": null,
   "metadata": {},
   "outputs": [],
   "source": []
  }
 ],
 "metadata": {
  "kernelspec": {
   "display_name": "Python 3 (ipykernel)",
   "language": "python",
   "name": "python3"
  },
  "language_info": {
   "codemirror_mode": {
    "name": "ipython",
    "version": 3
   },
   "file_extension": ".py",
   "mimetype": "text/x-python",
   "name": "python",
   "nbconvert_exporter": "python",
   "pygments_lexer": "ipython3",
   "version": "3.8.6"
  }
 },
 "nbformat": 4,
 "nbformat_minor": 2
}
